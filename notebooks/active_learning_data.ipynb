{
  "nbformat": 4,
  "nbformat_minor": 0,
  "metadata": {
    "colab": {
      "name": "active_learning_data.ipynb",
      "provenance": [],
      "collapsed_sections": [],
      "machine_shape": "hm"
    },
    "kernelspec": {
      "name": "python3",
      "display_name": "Python 3"
    },
    "language_info": {
      "name": "python"
    },
    "accelerator": "GPU",
    "widgets": {
      "application/vnd.jupyter.widget-state+json": {
        "e9b2650e436a4a3d9e0aa4cbb7c3c679": {
          "model_module": "@jupyter-widgets/controls",
          "model_name": "HBoxModel",
          "state": {
            "_view_name": "HBoxView",
            "_dom_classes": [],
            "_model_name": "HBoxModel",
            "_view_module": "@jupyter-widgets/controls",
            "_model_module_version": "1.5.0",
            "_view_count": null,
            "_view_module_version": "1.5.0",
            "box_style": "",
            "layout": "IPY_MODEL_bc17c094006a48d29d6e2cc708a35d0b",
            "_model_module": "@jupyter-widgets/controls",
            "children": [
              "IPY_MODEL_cde8d171084446e58e8a064e01a7a501",
              "IPY_MODEL_b7d5e68eda2c492a9e80525b69d6dd21",
              "IPY_MODEL_0de1f93062784a38be5e1016bbf29c05"
            ]
          }
        },
        "bc17c094006a48d29d6e2cc708a35d0b": {
          "model_module": "@jupyter-widgets/base",
          "model_name": "LayoutModel",
          "state": {
            "_view_name": "LayoutView",
            "grid_template_rows": null,
            "right": null,
            "justify_content": null,
            "_view_module": "@jupyter-widgets/base",
            "overflow": null,
            "_model_module_version": "1.2.0",
            "_view_count": null,
            "flex_flow": null,
            "width": null,
            "min_width": null,
            "border": null,
            "align_items": null,
            "bottom": null,
            "_model_module": "@jupyter-widgets/base",
            "top": null,
            "grid_column": null,
            "overflow_y": null,
            "overflow_x": null,
            "grid_auto_flow": null,
            "grid_area": null,
            "grid_template_columns": null,
            "flex": null,
            "_model_name": "LayoutModel",
            "justify_items": null,
            "grid_row": null,
            "max_height": null,
            "align_content": null,
            "visibility": null,
            "align_self": null,
            "height": null,
            "min_height": null,
            "padding": null,
            "grid_auto_rows": null,
            "grid_gap": null,
            "max_width": null,
            "order": null,
            "_view_module_version": "1.2.0",
            "grid_template_areas": null,
            "object_position": null,
            "object_fit": null,
            "grid_auto_columns": null,
            "margin": null,
            "display": null,
            "left": null
          }
        },
        "cde8d171084446e58e8a064e01a7a501": {
          "model_module": "@jupyter-widgets/controls",
          "model_name": "HTMLModel",
          "state": {
            "_view_name": "HTMLView",
            "style": "IPY_MODEL_25b6388694ff46eca2c9dbcf49b14ac7",
            "_dom_classes": [],
            "description": "",
            "_model_name": "HTMLModel",
            "placeholder": "​",
            "_view_module": "@jupyter-widgets/controls",
            "_model_module_version": "1.5.0",
            "value": "  0%",
            "_view_count": null,
            "_view_module_version": "1.5.0",
            "description_tooltip": null,
            "_model_module": "@jupyter-widgets/controls",
            "layout": "IPY_MODEL_1cf29525e90c45f3bda46b4d4ea0e9d3"
          }
        },
        "b7d5e68eda2c492a9e80525b69d6dd21": {
          "model_module": "@jupyter-widgets/controls",
          "model_name": "FloatProgressModel",
          "state": {
            "_view_name": "ProgressView",
            "style": "IPY_MODEL_2910f4ee601241408647ff845c2713d4",
            "_dom_classes": [],
            "description": "",
            "_model_name": "FloatProgressModel",
            "bar_style": "danger",
            "max": 67200,
            "_view_module": "@jupyter-widgets/controls",
            "_model_module_version": "1.5.0",
            "value": 135,
            "_view_count": null,
            "_view_module_version": "1.5.0",
            "orientation": "horizontal",
            "min": 0,
            "description_tooltip": null,
            "_model_module": "@jupyter-widgets/controls",
            "layout": "IPY_MODEL_0a817039c2cf4f23be507e0b0b7df501"
          }
        },
        "0de1f93062784a38be5e1016bbf29c05": {
          "model_module": "@jupyter-widgets/controls",
          "model_name": "HTMLModel",
          "state": {
            "_view_name": "HTMLView",
            "style": "IPY_MODEL_6af6b17b562141f59a0b4fae42b8c1b4",
            "_dom_classes": [],
            "description": "",
            "_model_name": "HTMLModel",
            "placeholder": "​",
            "_view_module": "@jupyter-widgets/controls",
            "_model_module_version": "1.5.0",
            "value": " 135/67200 [00:18&lt;1:39:35, 11.22it/s]",
            "_view_count": null,
            "_view_module_version": "1.5.0",
            "description_tooltip": null,
            "_model_module": "@jupyter-widgets/controls",
            "layout": "IPY_MODEL_1b4aeeac358841a4884e02ac756f8a3c"
          }
        },
        "25b6388694ff46eca2c9dbcf49b14ac7": {
          "model_module": "@jupyter-widgets/controls",
          "model_name": "DescriptionStyleModel",
          "state": {
            "_view_name": "StyleView",
            "_model_name": "DescriptionStyleModel",
            "description_width": "",
            "_view_module": "@jupyter-widgets/base",
            "_model_module_version": "1.5.0",
            "_view_count": null,
            "_view_module_version": "1.2.0",
            "_model_module": "@jupyter-widgets/controls"
          }
        },
        "1cf29525e90c45f3bda46b4d4ea0e9d3": {
          "model_module": "@jupyter-widgets/base",
          "model_name": "LayoutModel",
          "state": {
            "_view_name": "LayoutView",
            "grid_template_rows": null,
            "right": null,
            "justify_content": null,
            "_view_module": "@jupyter-widgets/base",
            "overflow": null,
            "_model_module_version": "1.2.0",
            "_view_count": null,
            "flex_flow": null,
            "width": null,
            "min_width": null,
            "border": null,
            "align_items": null,
            "bottom": null,
            "_model_module": "@jupyter-widgets/base",
            "top": null,
            "grid_column": null,
            "overflow_y": null,
            "overflow_x": null,
            "grid_auto_flow": null,
            "grid_area": null,
            "grid_template_columns": null,
            "flex": null,
            "_model_name": "LayoutModel",
            "justify_items": null,
            "grid_row": null,
            "max_height": null,
            "align_content": null,
            "visibility": null,
            "align_self": null,
            "height": null,
            "min_height": null,
            "padding": null,
            "grid_auto_rows": null,
            "grid_gap": null,
            "max_width": null,
            "order": null,
            "_view_module_version": "1.2.0",
            "grid_template_areas": null,
            "object_position": null,
            "object_fit": null,
            "grid_auto_columns": null,
            "margin": null,
            "display": null,
            "left": null
          }
        },
        "2910f4ee601241408647ff845c2713d4": {
          "model_module": "@jupyter-widgets/controls",
          "model_name": "ProgressStyleModel",
          "state": {
            "_view_name": "StyleView",
            "_model_name": "ProgressStyleModel",
            "description_width": "",
            "_view_module": "@jupyter-widgets/base",
            "_model_module_version": "1.5.0",
            "_view_count": null,
            "_view_module_version": "1.2.0",
            "bar_color": null,
            "_model_module": "@jupyter-widgets/controls"
          }
        },
        "0a817039c2cf4f23be507e0b0b7df501": {
          "model_module": "@jupyter-widgets/base",
          "model_name": "LayoutModel",
          "state": {
            "_view_name": "LayoutView",
            "grid_template_rows": null,
            "right": null,
            "justify_content": null,
            "_view_module": "@jupyter-widgets/base",
            "overflow": null,
            "_model_module_version": "1.2.0",
            "_view_count": null,
            "flex_flow": null,
            "width": null,
            "min_width": null,
            "border": null,
            "align_items": null,
            "bottom": null,
            "_model_module": "@jupyter-widgets/base",
            "top": null,
            "grid_column": null,
            "overflow_y": null,
            "overflow_x": null,
            "grid_auto_flow": null,
            "grid_area": null,
            "grid_template_columns": null,
            "flex": null,
            "_model_name": "LayoutModel",
            "justify_items": null,
            "grid_row": null,
            "max_height": null,
            "align_content": null,
            "visibility": null,
            "align_self": null,
            "height": null,
            "min_height": null,
            "padding": null,
            "grid_auto_rows": null,
            "grid_gap": null,
            "max_width": null,
            "order": null,
            "_view_module_version": "1.2.0",
            "grid_template_areas": null,
            "object_position": null,
            "object_fit": null,
            "grid_auto_columns": null,
            "margin": null,
            "display": null,
            "left": null
          }
        },
        "6af6b17b562141f59a0b4fae42b8c1b4": {
          "model_module": "@jupyter-widgets/controls",
          "model_name": "DescriptionStyleModel",
          "state": {
            "_view_name": "StyleView",
            "_model_name": "DescriptionStyleModel",
            "description_width": "",
            "_view_module": "@jupyter-widgets/base",
            "_model_module_version": "1.5.0",
            "_view_count": null,
            "_view_module_version": "1.2.0",
            "_model_module": "@jupyter-widgets/controls"
          }
        },
        "1b4aeeac358841a4884e02ac756f8a3c": {
          "model_module": "@jupyter-widgets/base",
          "model_name": "LayoutModel",
          "state": {
            "_view_name": "LayoutView",
            "grid_template_rows": null,
            "right": null,
            "justify_content": null,
            "_view_module": "@jupyter-widgets/base",
            "overflow": null,
            "_model_module_version": "1.2.0",
            "_view_count": null,
            "flex_flow": null,
            "width": null,
            "min_width": null,
            "border": null,
            "align_items": null,
            "bottom": null,
            "_model_module": "@jupyter-widgets/base",
            "top": null,
            "grid_column": null,
            "overflow_y": null,
            "overflow_x": null,
            "grid_auto_flow": null,
            "grid_area": null,
            "grid_template_columns": null,
            "flex": null,
            "_model_name": "LayoutModel",
            "justify_items": null,
            "grid_row": null,
            "max_height": null,
            "align_content": null,
            "visibility": null,
            "align_self": null,
            "height": null,
            "min_height": null,
            "padding": null,
            "grid_auto_rows": null,
            "grid_gap": null,
            "max_width": null,
            "order": null,
            "_view_module_version": "1.2.0",
            "grid_template_areas": null,
            "object_position": null,
            "object_fit": null,
            "grid_auto_columns": null,
            "margin": null,
            "display": null,
            "left": null
          }
        },
        "87b7ef958f914aab8e6213d3f2176300": {
          "model_module": "@jupyter-widgets/controls",
          "model_name": "HBoxModel",
          "state": {
            "_view_name": "HBoxView",
            "_dom_classes": [],
            "_model_name": "HBoxModel",
            "_view_module": "@jupyter-widgets/controls",
            "_model_module_version": "1.5.0",
            "_view_count": null,
            "_view_module_version": "1.5.0",
            "box_style": "",
            "layout": "IPY_MODEL_b206209e6ef7409aae13bb41baf7c7bc",
            "_model_module": "@jupyter-widgets/controls",
            "children": [
              "IPY_MODEL_4c42bed0b1524e699d58e8785e4c1c3c",
              "IPY_MODEL_8881de3a8e1f44bab6fe8c01f11cc7a7",
              "IPY_MODEL_fb536d3431d9479eb912eb0c113662a4"
            ]
          }
        },
        "b206209e6ef7409aae13bb41baf7c7bc": {
          "model_module": "@jupyter-widgets/base",
          "model_name": "LayoutModel",
          "state": {
            "_view_name": "LayoutView",
            "grid_template_rows": null,
            "right": null,
            "justify_content": null,
            "_view_module": "@jupyter-widgets/base",
            "overflow": null,
            "_model_module_version": "1.2.0",
            "_view_count": null,
            "flex_flow": null,
            "width": null,
            "min_width": null,
            "border": null,
            "align_items": null,
            "bottom": null,
            "_model_module": "@jupyter-widgets/base",
            "top": null,
            "grid_column": null,
            "overflow_y": null,
            "overflow_x": null,
            "grid_auto_flow": null,
            "grid_area": null,
            "grid_template_columns": null,
            "flex": null,
            "_model_name": "LayoutModel",
            "justify_items": null,
            "grid_row": null,
            "max_height": null,
            "align_content": null,
            "visibility": null,
            "align_self": null,
            "height": null,
            "min_height": null,
            "padding": null,
            "grid_auto_rows": null,
            "grid_gap": null,
            "max_width": null,
            "order": null,
            "_view_module_version": "1.2.0",
            "grid_template_areas": null,
            "object_position": null,
            "object_fit": null,
            "grid_auto_columns": null,
            "margin": null,
            "display": null,
            "left": null
          }
        },
        "4c42bed0b1524e699d58e8785e4c1c3c": {
          "model_module": "@jupyter-widgets/controls",
          "model_name": "HTMLModel",
          "state": {
            "_view_name": "HTMLView",
            "style": "IPY_MODEL_704ea72ddf774d5dba11d98ca9abf584",
            "_dom_classes": [],
            "description": "",
            "_model_name": "HTMLModel",
            "placeholder": "​",
            "_view_module": "@jupyter-widgets/controls",
            "_model_module_version": "1.5.0",
            "value": "100%",
            "_view_count": null,
            "_view_module_version": "1.5.0",
            "description_tooltip": null,
            "_model_module": "@jupyter-widgets/controls",
            "layout": "IPY_MODEL_e6d4f400022344f99053b6521e505933"
          }
        },
        "8881de3a8e1f44bab6fe8c01f11cc7a7": {
          "model_module": "@jupyter-widgets/controls",
          "model_name": "FloatProgressModel",
          "state": {
            "_view_name": "ProgressView",
            "style": "IPY_MODEL_b6488a6d0ec646f1bd16bfdaf2ba9828",
            "_dom_classes": [],
            "description": "",
            "_model_name": "FloatProgressModel",
            "bar_style": "success",
            "max": 4200,
            "_view_module": "@jupyter-widgets/controls",
            "_model_module_version": "1.5.0",
            "value": 4200,
            "_view_count": null,
            "_view_module_version": "1.5.0",
            "orientation": "horizontal",
            "min": 0,
            "description_tooltip": null,
            "_model_module": "@jupyter-widgets/controls",
            "layout": "IPY_MODEL_0e8f39bc412d425e98327d74e5403854"
          }
        },
        "fb536d3431d9479eb912eb0c113662a4": {
          "model_module": "@jupyter-widgets/controls",
          "model_name": "HTMLModel",
          "state": {
            "_view_name": "HTMLView",
            "style": "IPY_MODEL_d120778b937c4c97806532b2db11aada",
            "_dom_classes": [],
            "description": "",
            "_model_name": "HTMLModel",
            "placeholder": "​",
            "_view_module": "@jupyter-widgets/controls",
            "_model_module_version": "1.5.0",
            "value": " 4200/4200 [02:19&lt;00:00, 30.17it/s]",
            "_view_count": null,
            "_view_module_version": "1.5.0",
            "description_tooltip": null,
            "_model_module": "@jupyter-widgets/controls",
            "layout": "IPY_MODEL_c6e4edff105640baa81a42c97c78b578"
          }
        },
        "704ea72ddf774d5dba11d98ca9abf584": {
          "model_module": "@jupyter-widgets/controls",
          "model_name": "DescriptionStyleModel",
          "state": {
            "_view_name": "StyleView",
            "_model_name": "DescriptionStyleModel",
            "description_width": "",
            "_view_module": "@jupyter-widgets/base",
            "_model_module_version": "1.5.0",
            "_view_count": null,
            "_view_module_version": "1.2.0",
            "_model_module": "@jupyter-widgets/controls"
          }
        },
        "e6d4f400022344f99053b6521e505933": {
          "model_module": "@jupyter-widgets/base",
          "model_name": "LayoutModel",
          "state": {
            "_view_name": "LayoutView",
            "grid_template_rows": null,
            "right": null,
            "justify_content": null,
            "_view_module": "@jupyter-widgets/base",
            "overflow": null,
            "_model_module_version": "1.2.0",
            "_view_count": null,
            "flex_flow": null,
            "width": null,
            "min_width": null,
            "border": null,
            "align_items": null,
            "bottom": null,
            "_model_module": "@jupyter-widgets/base",
            "top": null,
            "grid_column": null,
            "overflow_y": null,
            "overflow_x": null,
            "grid_auto_flow": null,
            "grid_area": null,
            "grid_template_columns": null,
            "flex": null,
            "_model_name": "LayoutModel",
            "justify_items": null,
            "grid_row": null,
            "max_height": null,
            "align_content": null,
            "visibility": null,
            "align_self": null,
            "height": null,
            "min_height": null,
            "padding": null,
            "grid_auto_rows": null,
            "grid_gap": null,
            "max_width": null,
            "order": null,
            "_view_module_version": "1.2.0",
            "grid_template_areas": null,
            "object_position": null,
            "object_fit": null,
            "grid_auto_columns": null,
            "margin": null,
            "display": null,
            "left": null
          }
        },
        "b6488a6d0ec646f1bd16bfdaf2ba9828": {
          "model_module": "@jupyter-widgets/controls",
          "model_name": "ProgressStyleModel",
          "state": {
            "_view_name": "StyleView",
            "_model_name": "ProgressStyleModel",
            "description_width": "",
            "_view_module": "@jupyter-widgets/base",
            "_model_module_version": "1.5.0",
            "_view_count": null,
            "_view_module_version": "1.2.0",
            "bar_color": null,
            "_model_module": "@jupyter-widgets/controls"
          }
        },
        "0e8f39bc412d425e98327d74e5403854": {
          "model_module": "@jupyter-widgets/base",
          "model_name": "LayoutModel",
          "state": {
            "_view_name": "LayoutView",
            "grid_template_rows": null,
            "right": null,
            "justify_content": null,
            "_view_module": "@jupyter-widgets/base",
            "overflow": null,
            "_model_module_version": "1.2.0",
            "_view_count": null,
            "flex_flow": null,
            "width": null,
            "min_width": null,
            "border": null,
            "align_items": null,
            "bottom": null,
            "_model_module": "@jupyter-widgets/base",
            "top": null,
            "grid_column": null,
            "overflow_y": null,
            "overflow_x": null,
            "grid_auto_flow": null,
            "grid_area": null,
            "grid_template_columns": null,
            "flex": null,
            "_model_name": "LayoutModel",
            "justify_items": null,
            "grid_row": null,
            "max_height": null,
            "align_content": null,
            "visibility": null,
            "align_self": null,
            "height": null,
            "min_height": null,
            "padding": null,
            "grid_auto_rows": null,
            "grid_gap": null,
            "max_width": null,
            "order": null,
            "_view_module_version": "1.2.0",
            "grid_template_areas": null,
            "object_position": null,
            "object_fit": null,
            "grid_auto_columns": null,
            "margin": null,
            "display": null,
            "left": null
          }
        },
        "d120778b937c4c97806532b2db11aada": {
          "model_module": "@jupyter-widgets/controls",
          "model_name": "DescriptionStyleModel",
          "state": {
            "_view_name": "StyleView",
            "_model_name": "DescriptionStyleModel",
            "description_width": "",
            "_view_module": "@jupyter-widgets/base",
            "_model_module_version": "1.5.0",
            "_view_count": null,
            "_view_module_version": "1.2.0",
            "_model_module": "@jupyter-widgets/controls"
          }
        },
        "c6e4edff105640baa81a42c97c78b578": {
          "model_module": "@jupyter-widgets/base",
          "model_name": "LayoutModel",
          "state": {
            "_view_name": "LayoutView",
            "grid_template_rows": null,
            "right": null,
            "justify_content": null,
            "_view_module": "@jupyter-widgets/base",
            "overflow": null,
            "_model_module_version": "1.2.0",
            "_view_count": null,
            "flex_flow": null,
            "width": null,
            "min_width": null,
            "border": null,
            "align_items": null,
            "bottom": null,
            "_model_module": "@jupyter-widgets/base",
            "top": null,
            "grid_column": null,
            "overflow_y": null,
            "overflow_x": null,
            "grid_auto_flow": null,
            "grid_area": null,
            "grid_template_columns": null,
            "flex": null,
            "_model_name": "LayoutModel",
            "justify_items": null,
            "grid_row": null,
            "max_height": null,
            "align_content": null,
            "visibility": null,
            "align_self": null,
            "height": null,
            "min_height": null,
            "padding": null,
            "grid_auto_rows": null,
            "grid_gap": null,
            "max_width": null,
            "order": null,
            "_view_module_version": "1.2.0",
            "grid_template_areas": null,
            "object_position": null,
            "object_fit": null,
            "grid_auto_columns": null,
            "margin": null,
            "display": null,
            "left": null
          }
        }
      }
    }
  },
  "cells": [
    {
      "cell_type": "markdown",
      "metadata": {
        "id": "3HoAB1ZDp1hU"
      },
      "source": [
        "# Introduction"
      ]
    },
    {
      "cell_type": "markdown",
      "metadata": {
        "id": "_mec9E23pnhC"
      },
      "source": [
        "This notebook can be used to run experiments that trains RoBERTa model on different split of AG News Corpus dataset. The main aim is to train a model that will classify the news articles into one of the four categories,\n",
        "1. World News\n",
        "2. Sports News\n",
        "3. Business News\n",
        "4. Science / Technology News"
      ]
    },
    {
      "cell_type": "markdown",
      "metadata": {
        "id": "8n8UqVfQqeuu"
      },
      "source": [
        "# Libraries Needed"
      ]
    },
    {
      "cell_type": "code",
      "metadata": {
        "id": "VjML8q1V8Bnv"
      },
      "source": [
        "# !pip install simpletransformers"
      ],
      "execution_count": null,
      "outputs": []
    },
    {
      "cell_type": "code",
      "metadata": {
        "colab": {
          "base_uri": "https://localhost:8080/"
        },
        "id": "naRwwMZLN8XO",
        "outputId": "7e3ffef3-59c5-4090-cdd6-67725d7461c5"
      },
      "source": [
        "from google.colab import drive\n",
        "drive.mount('/content/drive')"
      ],
      "execution_count": null,
      "outputs": [
        {
          "output_type": "stream",
          "text": [
            "Drive already mounted at /content/drive; to attempt to forcibly remount, call drive.mount(\"/content/drive\", force_remount=True).\n"
          ],
          "name": "stdout"
        }
      ]
    },
    {
      "cell_type": "code",
      "metadata": {
        "id": "GOolGKUQOK71"
      },
      "source": [
        "import pandas as pd\n",
        "import numpy as np\n",
        "import torch\n",
        "\n",
        "# from simpletransformers.classification import ClassificationModel, ClassificationArgs\n",
        "# import pandas as pd\n",
        "import logging\n",
        "\n",
        "\n",
        "logging.basicConfig(level=logging.INFO)\n",
        "transformers_logger = logging.getLogger(\"transformers\")\n",
        "transformers_logger.setLevel(logging.WARNING)\n",
        "from IPython.display import display\n",
        "from sklearn.metrics import accuracy_score\n",
        "import os\n",
        "import torch\n",
        "import torch.nn as nn\n",
        "# import wandb\n",
        "import json"
      ],
      "execution_count": null,
      "outputs": []
    },
    {
      "cell_type": "code",
      "metadata": {
        "colab": {
          "base_uri": "https://localhost:8080/"
        },
        "id": "putIoVOxw0vj",
        "outputId": "19374cc0-07af-4064-c84b-4aef8a922502"
      },
      "source": [
        "torch.cuda.is_available()"
      ],
      "execution_count": null,
      "outputs": [
        {
          "output_type": "execute_result",
          "data": {
            "text/plain": [
              "True"
            ]
          },
          "metadata": {
            "tags": []
          },
          "execution_count": 4
        }
      ]
    },
    {
      "cell_type": "markdown",
      "metadata": {
        "id": "ZCPO4NzPqrJ-"
      },
      "source": [
        "# Data"
      ]
    },
    {
      "cell_type": "code",
      "metadata": {
        "id": "IG7wPkwlOZwd"
      },
      "source": [
        "df = pd.read_csv(\"/content/drive/MyDrive/fsdl_project/train.csv\", index_col=False)"
      ],
      "execution_count": null,
      "outputs": []
    },
    {
      "cell_type": "code",
      "metadata": {
        "id": "gMnWSvy1h-n8"
      },
      "source": [
        "test_df = pd.read_csv(\"/content/drive/MyDrive/fsdl_project/test.csv\", index_col=False)"
      ],
      "execution_count": null,
      "outputs": []
    },
    {
      "cell_type": "code",
      "metadata": {
        "colab": {
          "base_uri": "https://localhost:8080/",
          "height": 204
        },
        "id": "JdMavsXeOlas",
        "outputId": "843bc5bd-d465-4930-c5f8-a80fa8ed75d9"
      },
      "source": [
        "df.head()"
      ],
      "execution_count": null,
      "outputs": [
        {
          "output_type": "execute_result",
          "data": {
            "text/html": [
              "<div>\n",
              "<style scoped>\n",
              "    .dataframe tbody tr th:only-of-type {\n",
              "        vertical-align: middle;\n",
              "    }\n",
              "\n",
              "    .dataframe tbody tr th {\n",
              "        vertical-align: top;\n",
              "    }\n",
              "\n",
              "    .dataframe thead th {\n",
              "        text-align: right;\n",
              "    }\n",
              "</style>\n",
              "<table border=\"1\" class=\"dataframe\">\n",
              "  <thead>\n",
              "    <tr style=\"text-align: right;\">\n",
              "      <th></th>\n",
              "      <th>Class Index</th>\n",
              "      <th>Title</th>\n",
              "      <th>Description</th>\n",
              "    </tr>\n",
              "  </thead>\n",
              "  <tbody>\n",
              "    <tr>\n",
              "      <th>0</th>\n",
              "      <td>3</td>\n",
              "      <td>Wall St. Bears Claw Back Into the Black (Reuters)</td>\n",
              "      <td>Reuters - Short-sellers, Wall Street's dwindli...</td>\n",
              "    </tr>\n",
              "    <tr>\n",
              "      <th>1</th>\n",
              "      <td>3</td>\n",
              "      <td>Carlyle Looks Toward Commercial Aerospace (Reu...</td>\n",
              "      <td>Reuters - Private investment firm Carlyle Grou...</td>\n",
              "    </tr>\n",
              "    <tr>\n",
              "      <th>2</th>\n",
              "      <td>3</td>\n",
              "      <td>Oil and Economy Cloud Stocks' Outlook (Reuters)</td>\n",
              "      <td>Reuters - Soaring crude prices plus worries\\ab...</td>\n",
              "    </tr>\n",
              "    <tr>\n",
              "      <th>3</th>\n",
              "      <td>3</td>\n",
              "      <td>Iraq Halts Oil Exports from Main Southern Pipe...</td>\n",
              "      <td>Reuters - Authorities have halted oil export\\f...</td>\n",
              "    </tr>\n",
              "    <tr>\n",
              "      <th>4</th>\n",
              "      <td>3</td>\n",
              "      <td>Oil prices soar to all-time record, posing new...</td>\n",
              "      <td>AFP - Tearaway world oil prices, toppling reco...</td>\n",
              "    </tr>\n",
              "  </tbody>\n",
              "</table>\n",
              "</div>"
            ],
            "text/plain": [
              "   Class Index  ...                                        Description\n",
              "0            3  ...  Reuters - Short-sellers, Wall Street's dwindli...\n",
              "1            3  ...  Reuters - Private investment firm Carlyle Grou...\n",
              "2            3  ...  Reuters - Soaring crude prices plus worries\\ab...\n",
              "3            3  ...  Reuters - Authorities have halted oil export\\f...\n",
              "4            3  ...  AFP - Tearaway world oil prices, toppling reco...\n",
              "\n",
              "[5 rows x 3 columns]"
            ]
          },
          "metadata": {
            "tags": []
          },
          "execution_count": 5
        }
      ]
    },
    {
      "cell_type": "markdown",
      "metadata": {
        "id": "lx71wm_bLh5d"
      },
      "source": [
        "1-World\n",
        "\n",
        "2-Sports\n",
        "\n",
        "3-Business \n",
        "\n",
        "4-Sci/Tech"
      ]
    },
    {
      "cell_type": "code",
      "metadata": {
        "colab": {
          "base_uri": "https://localhost:8080/"
        },
        "id": "NdqkPRoUxVZR",
        "outputId": "8af2a544-64fd-4221-982c-d830c065377f"
      },
      "source": [
        "df['text'] = df['Title'].str.lower() + \" \" + df['Description'].str.lower()\n",
        "df['labels'] = df['Class Index'] - 1\n",
        "\n",
        "test_df['text'] = test_df['Title'].str.lower() + \" \" + test_df['Description'].str.lower()\n",
        "test_df['labels'] = test_df['Class Index'] - 1"
      ],
      "execution_count": null,
      "outputs": [
        {
          "output_type": "stream",
          "text": [
            "INFO:numexpr.utils:NumExpr defaulting to 2 threads.\n"
          ],
          "name": "stderr"
        }
      ]
    },
    {
      "cell_type": "code",
      "metadata": {
        "colab": {
          "base_uri": "https://localhost:8080/",
          "height": 1000
        },
        "id": "YoYDss_RxpM2",
        "outputId": "19eba657-24ea-47f4-9156-faa3c374e874"
      },
      "source": [
        "display(df)\n",
        "display(test_df)"
      ],
      "execution_count": null,
      "outputs": [
        {
          "output_type": "display_data",
          "data": {
            "text/html": [
              "<div>\n",
              "<style scoped>\n",
              "    .dataframe tbody tr th:only-of-type {\n",
              "        vertical-align: middle;\n",
              "    }\n",
              "\n",
              "    .dataframe tbody tr th {\n",
              "        vertical-align: top;\n",
              "    }\n",
              "\n",
              "    .dataframe thead th {\n",
              "        text-align: right;\n",
              "    }\n",
              "</style>\n",
              "<table border=\"1\" class=\"dataframe\">\n",
              "  <thead>\n",
              "    <tr style=\"text-align: right;\">\n",
              "      <th></th>\n",
              "      <th>Class Index</th>\n",
              "      <th>Title</th>\n",
              "      <th>Description</th>\n",
              "      <th>text</th>\n",
              "      <th>labels</th>\n",
              "    </tr>\n",
              "  </thead>\n",
              "  <tbody>\n",
              "    <tr>\n",
              "      <th>0</th>\n",
              "      <td>3</td>\n",
              "      <td>Wall St. Bears Claw Back Into the Black (Reuters)</td>\n",
              "      <td>Reuters - Short-sellers, Wall Street's dwindli...</td>\n",
              "      <td>wall st. bears claw back into the black (reute...</td>\n",
              "      <td>2</td>\n",
              "    </tr>\n",
              "    <tr>\n",
              "      <th>1</th>\n",
              "      <td>3</td>\n",
              "      <td>Carlyle Looks Toward Commercial Aerospace (Reu...</td>\n",
              "      <td>Reuters - Private investment firm Carlyle Grou...</td>\n",
              "      <td>carlyle looks toward commercial aerospace (reu...</td>\n",
              "      <td>2</td>\n",
              "    </tr>\n",
              "    <tr>\n",
              "      <th>2</th>\n",
              "      <td>3</td>\n",
              "      <td>Oil and Economy Cloud Stocks' Outlook (Reuters)</td>\n",
              "      <td>Reuters - Soaring crude prices plus worries\\ab...</td>\n",
              "      <td>oil and economy cloud stocks' outlook (reuters...</td>\n",
              "      <td>2</td>\n",
              "    </tr>\n",
              "    <tr>\n",
              "      <th>3</th>\n",
              "      <td>3</td>\n",
              "      <td>Iraq Halts Oil Exports from Main Southern Pipe...</td>\n",
              "      <td>Reuters - Authorities have halted oil export\\f...</td>\n",
              "      <td>iraq halts oil exports from main southern pipe...</td>\n",
              "      <td>2</td>\n",
              "    </tr>\n",
              "    <tr>\n",
              "      <th>4</th>\n",
              "      <td>3</td>\n",
              "      <td>Oil prices soar to all-time record, posing new...</td>\n",
              "      <td>AFP - Tearaway world oil prices, toppling reco...</td>\n",
              "      <td>oil prices soar to all-time record, posing new...</td>\n",
              "      <td>2</td>\n",
              "    </tr>\n",
              "    <tr>\n",
              "      <th>...</th>\n",
              "      <td>...</td>\n",
              "      <td>...</td>\n",
              "      <td>...</td>\n",
              "      <td>...</td>\n",
              "      <td>...</td>\n",
              "    </tr>\n",
              "    <tr>\n",
              "      <th>119995</th>\n",
              "      <td>1</td>\n",
              "      <td>Pakistan's Musharraf Says Won't Quit as Army C...</td>\n",
              "      <td>KARACHI (Reuters) - Pakistani President Perve...</td>\n",
              "      <td>pakistan's musharraf says won't quit as army c...</td>\n",
              "      <td>0</td>\n",
              "    </tr>\n",
              "    <tr>\n",
              "      <th>119996</th>\n",
              "      <td>2</td>\n",
              "      <td>Renteria signing a top-shelf deal</td>\n",
              "      <td>Red Sox general manager Theo Epstein acknowled...</td>\n",
              "      <td>renteria signing a top-shelf deal red sox gene...</td>\n",
              "      <td>1</td>\n",
              "    </tr>\n",
              "    <tr>\n",
              "      <th>119997</th>\n",
              "      <td>2</td>\n",
              "      <td>Saban not going to Dolphins yet</td>\n",
              "      <td>The Miami Dolphins will put their courtship of...</td>\n",
              "      <td>saban not going to dolphins yet the miami dolp...</td>\n",
              "      <td>1</td>\n",
              "    </tr>\n",
              "    <tr>\n",
              "      <th>119998</th>\n",
              "      <td>2</td>\n",
              "      <td>Today's NFL games</td>\n",
              "      <td>PITTSBURGH at NY GIANTS Time: 1:30 p.m. Line: ...</td>\n",
              "      <td>today's nfl games pittsburgh at ny giants time...</td>\n",
              "      <td>1</td>\n",
              "    </tr>\n",
              "    <tr>\n",
              "      <th>119999</th>\n",
              "      <td>2</td>\n",
              "      <td>Nets get Carter from Raptors</td>\n",
              "      <td>INDIANAPOLIS -- All-Star Vince Carter was trad...</td>\n",
              "      <td>nets get carter from raptors indianapolis -- a...</td>\n",
              "      <td>1</td>\n",
              "    </tr>\n",
              "  </tbody>\n",
              "</table>\n",
              "<p>120000 rows × 5 columns</p>\n",
              "</div>"
            ],
            "text/plain": [
              "        Class Index  ... labels\n",
              "0                 3  ...      2\n",
              "1                 3  ...      2\n",
              "2                 3  ...      2\n",
              "3                 3  ...      2\n",
              "4                 3  ...      2\n",
              "...             ...  ...    ...\n",
              "119995            1  ...      0\n",
              "119996            2  ...      1\n",
              "119997            2  ...      1\n",
              "119998            2  ...      1\n",
              "119999            2  ...      1\n",
              "\n",
              "[120000 rows x 5 columns]"
            ]
          },
          "metadata": {
            "tags": []
          }
        },
        {
          "output_type": "display_data",
          "data": {
            "text/html": [
              "<div>\n",
              "<style scoped>\n",
              "    .dataframe tbody tr th:only-of-type {\n",
              "        vertical-align: middle;\n",
              "    }\n",
              "\n",
              "    .dataframe tbody tr th {\n",
              "        vertical-align: top;\n",
              "    }\n",
              "\n",
              "    .dataframe thead th {\n",
              "        text-align: right;\n",
              "    }\n",
              "</style>\n",
              "<table border=\"1\" class=\"dataframe\">\n",
              "  <thead>\n",
              "    <tr style=\"text-align: right;\">\n",
              "      <th></th>\n",
              "      <th>Class Index</th>\n",
              "      <th>Title</th>\n",
              "      <th>Description</th>\n",
              "      <th>text</th>\n",
              "      <th>labels</th>\n",
              "    </tr>\n",
              "  </thead>\n",
              "  <tbody>\n",
              "    <tr>\n",
              "      <th>0</th>\n",
              "      <td>3</td>\n",
              "      <td>Fears for T N pension after talks</td>\n",
              "      <td>Unions representing workers at Turner   Newall...</td>\n",
              "      <td>fears for t n pension after talks unions repre...</td>\n",
              "      <td>2</td>\n",
              "    </tr>\n",
              "    <tr>\n",
              "      <th>1</th>\n",
              "      <td>4</td>\n",
              "      <td>The Race is On: Second Private Team Sets Launc...</td>\n",
              "      <td>SPACE.com - TORONTO, Canada -- A second\\team o...</td>\n",
              "      <td>the race is on: second private team sets launc...</td>\n",
              "      <td>3</td>\n",
              "    </tr>\n",
              "    <tr>\n",
              "      <th>2</th>\n",
              "      <td>4</td>\n",
              "      <td>Ky. Company Wins Grant to Study Peptides (AP)</td>\n",
              "      <td>AP - A company founded by a chemistry research...</td>\n",
              "      <td>ky. company wins grant to study peptides (ap) ...</td>\n",
              "      <td>3</td>\n",
              "    </tr>\n",
              "    <tr>\n",
              "      <th>3</th>\n",
              "      <td>4</td>\n",
              "      <td>Prediction Unit Helps Forecast Wildfires (AP)</td>\n",
              "      <td>AP - It's barely dawn when Mike Fitzpatrick st...</td>\n",
              "      <td>prediction unit helps forecast wildfires (ap) ...</td>\n",
              "      <td>3</td>\n",
              "    </tr>\n",
              "    <tr>\n",
              "      <th>4</th>\n",
              "      <td>4</td>\n",
              "      <td>Calif. Aims to Limit Farm-Related Smog (AP)</td>\n",
              "      <td>AP - Southern California's smog-fighting agenc...</td>\n",
              "      <td>calif. aims to limit farm-related smog (ap) ap...</td>\n",
              "      <td>3</td>\n",
              "    </tr>\n",
              "    <tr>\n",
              "      <th>...</th>\n",
              "      <td>...</td>\n",
              "      <td>...</td>\n",
              "      <td>...</td>\n",
              "      <td>...</td>\n",
              "      <td>...</td>\n",
              "    </tr>\n",
              "    <tr>\n",
              "      <th>7595</th>\n",
              "      <td>1</td>\n",
              "      <td>Around the world</td>\n",
              "      <td>Ukrainian presidential candidate Viktor Yushch...</td>\n",
              "      <td>around the world ukrainian presidential candid...</td>\n",
              "      <td>0</td>\n",
              "    </tr>\n",
              "    <tr>\n",
              "      <th>7596</th>\n",
              "      <td>2</td>\n",
              "      <td>Void is filled with Clement</td>\n",
              "      <td>With the supply of attractive pitching options...</td>\n",
              "      <td>void is filled with clement with the supply of...</td>\n",
              "      <td>1</td>\n",
              "    </tr>\n",
              "    <tr>\n",
              "      <th>7597</th>\n",
              "      <td>2</td>\n",
              "      <td>Martinez leaves bitter</td>\n",
              "      <td>Like Roger Clemens did almost exactly eight ye...</td>\n",
              "      <td>martinez leaves bitter like roger clemens did ...</td>\n",
              "      <td>1</td>\n",
              "    </tr>\n",
              "    <tr>\n",
              "      <th>7598</th>\n",
              "      <td>3</td>\n",
              "      <td>5 of arthritis patients in Singapore take Bext...</td>\n",
              "      <td>SINGAPORE : Doctors in the United States have ...</td>\n",
              "      <td>5 of arthritis patients in singapore take bext...</td>\n",
              "      <td>2</td>\n",
              "    </tr>\n",
              "    <tr>\n",
              "      <th>7599</th>\n",
              "      <td>3</td>\n",
              "      <td>EBay gets into rentals</td>\n",
              "      <td>EBay plans to buy the apartment and home renta...</td>\n",
              "      <td>ebay gets into rentals ebay plans to buy the a...</td>\n",
              "      <td>2</td>\n",
              "    </tr>\n",
              "  </tbody>\n",
              "</table>\n",
              "<p>7600 rows × 5 columns</p>\n",
              "</div>"
            ],
            "text/plain": [
              "      Class Index  ... labels\n",
              "0               3  ...      2\n",
              "1               4  ...      3\n",
              "2               4  ...      3\n",
              "3               4  ...      3\n",
              "4               4  ...      3\n",
              "...           ...  ...    ...\n",
              "7595            1  ...      0\n",
              "7596            2  ...      1\n",
              "7597            2  ...      1\n",
              "7598            3  ...      2\n",
              "7599            3  ...      2\n",
              "\n",
              "[7600 rows x 5 columns]"
            ]
          },
          "metadata": {
            "tags": []
          }
        }
      ]
    },
    {
      "cell_type": "code",
      "metadata": {
        "id": "iXLji3JeVikX"
      },
      "source": [
        "np.random.seed(100)\n",
        "train_idx = np.random.choice(df.index, size=int(df.shape[0]*0.8), replace=False)\n",
        "valid_idx = set(df.index) - set(train_idx)\n",
        "\n",
        "train_df = df[df.index.isin(train_idx)]\n",
        "valid_df = df[df.index.isin(valid_idx)]"
      ],
      "execution_count": null,
      "outputs": []
    },
    {
      "cell_type": "code",
      "metadata": {
        "colab": {
          "base_uri": "https://localhost:8080/"
        },
        "id": "0Fm5RGxGyUOx",
        "outputId": "0b775f9f-a550-4953-a7fd-3509cca2987b"
      },
      "source": [
        "train_df.shape[0] + valid_df.shape[0] == df.shape[0]"
      ],
      "execution_count": null,
      "outputs": [
        {
          "output_type": "execute_result",
          "data": {
            "text/plain": [
              "True"
            ]
          },
          "metadata": {
            "tags": []
          },
          "execution_count": 8
        }
      ]
    },
    {
      "cell_type": "code",
      "metadata": {
        "id": "UU8EXVsX8c4j"
      },
      "source": [
        "os.mkdir(\"/content/drive/MyDrive/fsdl_project/data\")"
      ],
      "execution_count": null,
      "outputs": []
    },
    {
      "cell_type": "code",
      "metadata": {
        "id": "UYcQPYI68o5a"
      },
      "source": [
        "os.mkdir(\"/content/drive/MyDrive/fsdl_project/data/baseline\")"
      ],
      "execution_count": null,
      "outputs": []
    },
    {
      "cell_type": "code",
      "metadata": {
        "id": "Oy6-nLIO8xEk"
      },
      "source": [
        "os.mkdir(\"/content/drive/MyDrive/fsdl_project/data/active_learning\")"
      ],
      "execution_count": null,
      "outputs": []
    },
    {
      "cell_type": "code",
      "metadata": {
        "id": "hu3jpJ7R8jti"
      },
      "source": [
        "train_df.to_csv(\"/content/drive/MyDrive/fsdl_project/data/baseline/train.csv.gz\", sep=\"|\", index=False, compression=\"gzip\")\n",
        "valid_df.to_csv(\"/content/drive/MyDrive/fsdl_project/data/baseline/valid.csv.gz\", sep=\"|\", index=False, compression=\"gzip\")\n",
        "test_df.to_csv(\"/content/drive/MyDrive/fsdl_project/data/baseline/test.csv.gz\", sep=\"|\", index=False, compression=\"gzip\")"
      ],
      "execution_count": null,
      "outputs": []
    },
    {
      "cell_type": "code",
      "metadata": {
        "id": "BeaHRTtrTGiG"
      },
      "source": [
        "train_df = pd.read_csv(\"/content/drive/MyDrive/fsdl_project/data/baseline/train.csv.gz\", sep=\"|\", index_col=False)\n",
        "valid_df = pd.read_csv(\"/content/drive/MyDrive/fsdl_project/data/baseline/valid.csv.gz\", sep=\"|\", index_col=False)\n",
        "test_df = pd.read_csv(\"/content/drive/MyDrive/fsdl_project/data/baseline/test.csv.gz\", sep=\"|\", index_col=False)"
      ],
      "execution_count": null,
      "outputs": []
    },
    {
      "cell_type": "code",
      "metadata": {
        "colab": {
          "base_uri": "https://localhost:8080/",
          "height": 204
        },
        "id": "G4Tq7Gt9tDIq",
        "outputId": "90b3aedb-d143-4c6d-8eea-a7dcbda456f8"
      },
      "source": [
        "train_df.head()"
      ],
      "execution_count": null,
      "outputs": [
        {
          "output_type": "execute_result",
          "data": {
            "text/html": [
              "<div>\n",
              "<style scoped>\n",
              "    .dataframe tbody tr th:only-of-type {\n",
              "        vertical-align: middle;\n",
              "    }\n",
              "\n",
              "    .dataframe tbody tr th {\n",
              "        vertical-align: top;\n",
              "    }\n",
              "\n",
              "    .dataframe thead th {\n",
              "        text-align: right;\n",
              "    }\n",
              "</style>\n",
              "<table border=\"1\" class=\"dataframe\">\n",
              "  <thead>\n",
              "    <tr style=\"text-align: right;\">\n",
              "      <th></th>\n",
              "      <th>Class Index</th>\n",
              "      <th>Title</th>\n",
              "      <th>Description</th>\n",
              "      <th>text</th>\n",
              "      <th>labels</th>\n",
              "    </tr>\n",
              "  </thead>\n",
              "  <tbody>\n",
              "    <tr>\n",
              "      <th>0</th>\n",
              "      <td>3</td>\n",
              "      <td>Wall St. Bears Claw Back Into the Black (Reuters)</td>\n",
              "      <td>Reuters - Short-sellers, Wall Street's dwindli...</td>\n",
              "      <td>reuters - short-sellers, wall street's dwindli...</td>\n",
              "      <td>2</td>\n",
              "    </tr>\n",
              "    <tr>\n",
              "      <th>1</th>\n",
              "      <td>3</td>\n",
              "      <td>Oil and Economy Cloud Stocks' Outlook (Reuters)</td>\n",
              "      <td>Reuters - Soaring crude prices plus worries\\ab...</td>\n",
              "      <td>reuters - soaring crude prices plus worries\\ab...</td>\n",
              "      <td>2</td>\n",
              "    </tr>\n",
              "    <tr>\n",
              "      <th>2</th>\n",
              "      <td>3</td>\n",
              "      <td>Iraq Halts Oil Exports from Main Southern Pipe...</td>\n",
              "      <td>Reuters - Authorities have halted oil export\\f...</td>\n",
              "      <td>reuters - authorities have halted oil export\\f...</td>\n",
              "      <td>2</td>\n",
              "    </tr>\n",
              "    <tr>\n",
              "      <th>3</th>\n",
              "      <td>3</td>\n",
              "      <td>Oil prices soar to all-time record, posing new...</td>\n",
              "      <td>AFP - Tearaway world oil prices, toppling reco...</td>\n",
              "      <td>afp - tearaway world oil prices, toppling reco...</td>\n",
              "      <td>2</td>\n",
              "    </tr>\n",
              "    <tr>\n",
              "      <th>4</th>\n",
              "      <td>3</td>\n",
              "      <td>Stocks End Up, But Near Year Lows (Reuters)</td>\n",
              "      <td>Reuters - Stocks ended slightly higher on Frid...</td>\n",
              "      <td>reuters - stocks ended slightly higher on frid...</td>\n",
              "      <td>2</td>\n",
              "    </tr>\n",
              "  </tbody>\n",
              "</table>\n",
              "</div>"
            ],
            "text/plain": [
              "   Class Index  ... labels\n",
              "0            3  ...      2\n",
              "1            3  ...      2\n",
              "2            3  ...      2\n",
              "3            3  ...      2\n",
              "4            3  ...      2\n",
              "\n",
              "[5 rows x 5 columns]"
            ]
          },
          "metadata": {
            "tags": []
          },
          "execution_count": 7
        }
      ]
    },
    {
      "cell_type": "code",
      "metadata": {
        "id": "FcCGWUbJTa97"
      },
      "source": [
        "train_df['text'] = train_df['Description'].str.lower()\n",
        "valid_df['text'] = valid_df['Description'].str.lower()\n",
        "test_df['text'] = test_df['Description'].str.lower()"
      ],
      "execution_count": null,
      "outputs": []
    },
    {
      "cell_type": "markdown",
      "metadata": {
        "id": "75vkSUMSqxEw"
      },
      "source": [
        "# Model"
      ]
    },
    {
      "cell_type": "code",
      "metadata": {
        "id": "bdTIFCxhycuf"
      },
      "source": [
        "## Training RoBERTa on full training set to obtain baseline accuracy on test data\n",
        "\n",
        "# Optional model configuration\n",
        "\n",
        "model_args = ClassificationArgs(num_train_epochs=5, \n",
        "                                overwrite_output_dir= True, \n",
        "                                train_batch_size=16,\n",
        "                                max_seq_length=250, \n",
        "                                wandb_project= 'active_learning_baseline_v2', \n",
        "                                best_model_dir=\"/content/drive/MyDrive/fsdl_project/model/baseline/best_model/20210418\",\n",
        "                                cache_dir=\"/content/drive/MyDrive/fsdl_project/cache/baseline/20210418\",\n",
        "                                eval_batch_size=16,\n",
        "                                evaluate_during_training=True,\n",
        "                                evaluate_during_training_verbose=True,\n",
        "                                manual_seed=100,\n",
        "                                output_dir=\"content/drive/MyDrive/fsdl_project/output/baseline/20210418\",\n",
        "                                use_early_stopping=True,\n",
        "                                early_stopping_patience=3,\n",
        "                                )\n",
        "\n",
        "\n",
        "# Create a ClassificationModel\n",
        "model = ClassificationModel(\n",
        "\"roberta\", \"roberta-base\", args=model_args, use_cuda=True, num_labels=4,\n",
        ")"
      ],
      "execution_count": null,
      "outputs": []
    },
    {
      "cell_type": "code",
      "metadata": {
        "id": "FvN6-Txc0OKy"
      },
      "source": [
        "model.train_model(train_df=train_df, eval_df=valid_df, accuracy=accuracy_score)"
      ],
      "execution_count": null,
      "outputs": []
    },
    {
      "cell_type": "code",
      "metadata": {
        "id": "ZEnJVeDV3Qhv"
      },
      "source": [
        "## Loading model for inference\n",
        "# Create a ClassificationModel\n",
        "model = ClassificationModel(\n",
        "\"roberta\", \"/content/drive/MyDrive/fsdl_project\" ,\n",
        ")"
      ],
      "execution_count": null,
      "outputs": []
    },
    {
      "cell_type": "code",
      "metadata": {
        "id": "-WP9tSaA1iqD"
      },
      "source": [
        "valid_result, valid_model_outputs, valid_wrong_predictions = model.eval_model(valid_df, accuracy=accuracy_score)"
      ],
      "execution_count": null,
      "outputs": []
    },
    {
      "cell_type": "code",
      "metadata": {
        "id": "TrNd911FDH42"
      },
      "source": [
        "train_result, train_model_outputs, train_wrong_predictions = model.eval_model(train_df, accuracy=accuracy_score)"
      ],
      "execution_count": null,
      "outputs": []
    },
    {
      "cell_type": "code",
      "metadata": {
        "id": "PzQzwZwL8dQr"
      },
      "source": [
        "sf = nn.Softmax(dim=1)"
      ],
      "execution_count": null,
      "outputs": []
    },
    {
      "cell_type": "code",
      "metadata": {
        "colab": {
          "base_uri": "https://localhost:8080/"
        },
        "id": "cjbARyuq8Nck",
        "outputId": "cc41fec1-a71f-4fac-ad7e-6063d156d848"
      },
      "source": [
        "np.mean(torch.argmax(sf(torch.tensor(model_outputs)), dim=1).numpy() == valid_df['labels'].values.ravel())"
      ],
      "execution_count": null,
      "outputs": [
        {
          "output_type": "execute_result",
          "data": {
            "text/plain": [
              "0.941625"
            ]
          },
          "metadata": {
            "tags": []
          },
          "execution_count": 28
        }
      ]
    },
    {
      "cell_type": "code",
      "metadata": {
        "id": "DnwEsTa37hdX"
      },
      "source": [
        "wandb.log({'best_train_accuracy': })"
      ],
      "execution_count": null,
      "outputs": []
    },
    {
      "cell_type": "code",
      "metadata": {
        "colab": {
          "base_uri": "https://localhost:8080/",
          "height": 306
        },
        "id": "iYw9JK3Z_zk2",
        "outputId": "b65eb5d6-65c3-440a-bb2f-5f11e3979e1f"
      },
      "source": [
        "test_df.head()"
      ],
      "execution_count": null,
      "outputs": [
        {
          "output_type": "execute_result",
          "data": {
            "text/html": [
              "<div>\n",
              "<style scoped>\n",
              "    .dataframe tbody tr th:only-of-type {\n",
              "        vertical-align: middle;\n",
              "    }\n",
              "\n",
              "    .dataframe tbody tr th {\n",
              "        vertical-align: top;\n",
              "    }\n",
              "\n",
              "    .dataframe thead th {\n",
              "        text-align: right;\n",
              "    }\n",
              "</style>\n",
              "<table border=\"1\" class=\"dataframe\">\n",
              "  <thead>\n",
              "    <tr style=\"text-align: right;\">\n",
              "      <th></th>\n",
              "      <th>Class Index</th>\n",
              "      <th>Title</th>\n",
              "      <th>Description</th>\n",
              "      <th>text</th>\n",
              "      <th>labels</th>\n",
              "    </tr>\n",
              "  </thead>\n",
              "  <tbody>\n",
              "    <tr>\n",
              "      <th>0</th>\n",
              "      <td>3</td>\n",
              "      <td>Fears for T N pension after talks</td>\n",
              "      <td>Unions representing workers at Turner   Newall...</td>\n",
              "      <td>fears for t n pension after talks unions repre...</td>\n",
              "      <td>2</td>\n",
              "    </tr>\n",
              "    <tr>\n",
              "      <th>1</th>\n",
              "      <td>4</td>\n",
              "      <td>The Race is On: Second Private Team Sets Launc...</td>\n",
              "      <td>SPACE.com - TORONTO, Canada -- A second\\team o...</td>\n",
              "      <td>the race is on: second private team sets launc...</td>\n",
              "      <td>3</td>\n",
              "    </tr>\n",
              "    <tr>\n",
              "      <th>2</th>\n",
              "      <td>4</td>\n",
              "      <td>Ky. Company Wins Grant to Study Peptides (AP)</td>\n",
              "      <td>AP - A company founded by a chemistry research...</td>\n",
              "      <td>ky. company wins grant to study peptides (ap) ...</td>\n",
              "      <td>3</td>\n",
              "    </tr>\n",
              "    <tr>\n",
              "      <th>3</th>\n",
              "      <td>4</td>\n",
              "      <td>Prediction Unit Helps Forecast Wildfires (AP)</td>\n",
              "      <td>AP - It's barely dawn when Mike Fitzpatrick st...</td>\n",
              "      <td>prediction unit helps forecast wildfires (ap) ...</td>\n",
              "      <td>3</td>\n",
              "    </tr>\n",
              "    <tr>\n",
              "      <th>4</th>\n",
              "      <td>4</td>\n",
              "      <td>Calif. Aims to Limit Farm-Related Smog (AP)</td>\n",
              "      <td>AP - Southern California's smog-fighting agenc...</td>\n",
              "      <td>calif. aims to limit farm-related smog (ap) ap...</td>\n",
              "      <td>3</td>\n",
              "    </tr>\n",
              "  </tbody>\n",
              "</table>\n",
              "</div>"
            ],
            "text/plain": [
              "   Class Index  ... labels\n",
              "0            3  ...      2\n",
              "1            4  ...      3\n",
              "2            4  ...      3\n",
              "3            4  ...      3\n",
              "4            4  ...      3\n",
              "\n",
              "[5 rows x 5 columns]"
            ]
          },
          "metadata": {
            "tags": []
          },
          "execution_count": 29
        }
      ]
    },
    {
      "cell_type": "code",
      "metadata": {
        "id": "VMfm5GpE_2hn"
      },
      "source": [
        "\n",
        "test_result, test_model_outputs, test_wrong_predictions = model.eval_model(test_df, accuracy = accuracy_score)"
      ],
      "execution_count": null,
      "outputs": []
    },
    {
      "cell_type": "code",
      "metadata": {
        "colab": {
          "base_uri": "https://localhost:8080/"
        },
        "id": "NSkVsMSKAlvM",
        "outputId": "0956f20c-501d-4ab9-e243-b150ade44e94"
      },
      "source": [
        "log_to_wandb"
      ],
      "execution_count": null,
      "outputs": [
        {
          "output_type": "execute_result",
          "data": {
            "text/plain": [
              "{'test_accuracy': 0.9388157894736842,\n",
              " 'test_eval_loss': 0.24408445681959978,\n",
              " 'test_mcc': 0.9184682069651259,\n",
              " 'train_accuracy': 0.96821875,\n",
              " 'train_eval_loss': 0.11901225684736952,\n",
              " 'train_mcc': 0.9576493149383133,\n",
              " 'valid_eval_loss': 0.22651522111527933,\n",
              " 'valid_mcc': 0.9222124561368541}"
            ]
          },
          "metadata": {
            "tags": []
          },
          "execution_count": 44
        }
      ]
    },
    {
      "cell_type": "code",
      "metadata": {
        "id": "2ot8BAIbII1P"
      },
      "source": [
        "log_to_wandb = {f'test_{key}': item for key, item in test_result.items()}\n",
        "log_to_wandb.update({f'train_{key}': item for key, item in train_result.items()})\n",
        "log_to_wandb.update({f'valid_{key}': item for key, item in result.items()})"
      ],
      "execution_count": null,
      "outputs": []
    },
    {
      "cell_type": "code",
      "metadata": {
        "id": "lxnr63qRJnS1"
      },
      "source": [
        "import json"
      ],
      "execution_count": null,
      "outputs": []
    },
    {
      "cell_type": "code",
      "metadata": {
        "id": "i1j--jrGJofS"
      },
      "source": [
        "import os"
      ],
      "execution_count": null,
      "outputs": []
    },
    {
      "cell_type": "code",
      "metadata": {
        "id": "IaWAeRepJptX"
      },
      "source": [
        "os.mkdir(\"/content/drive/MyDrive/fsdl_project/baseline\")"
      ],
      "execution_count": null,
      "outputs": []
    },
    {
      "cell_type": "code",
      "metadata": {
        "id": "HKNluWxeJvGO"
      },
      "source": [
        "with open(\"/content/drive/MyDrive/fsdl_project/baseline/exp_stats.json\", 'w') as outfile:\n",
        "    json.dump(log_to_wandb, outfile, indent=4)"
      ],
      "execution_count": null,
      "outputs": []
    },
    {
      "cell_type": "code",
      "metadata": {
        "id": "whSuMKRdIPTs"
      },
      "source": [
        "wandb.log(log_to_wandb)"
      ],
      "execution_count": null,
      "outputs": []
    },
    {
      "cell_type": "code",
      "metadata": {
        "id": "4zUIXkzWWyhx"
      },
      "source": [
        "train_df = df.sample(int(df.shape[0]*0.1))"
      ],
      "execution_count": null,
      "outputs": []
    },
    {
      "cell_type": "markdown",
      "metadata": {
        "id": "swUNHGDM7SAk"
      },
      "source": [
        ""
      ]
    },
    {
      "cell_type": "code",
      "metadata": {
        "colab": {
          "base_uri": "https://localhost:8080/",
          "height": 204
        },
        "id": "Auh0UMgoXHfX",
        "outputId": "d4b66311-4725-467a-ea7f-1e1a191fa609"
      },
      "source": [
        "train_df.head()"
      ],
      "execution_count": null,
      "outputs": [
        {
          "output_type": "execute_result",
          "data": {
            "text/html": [
              "<div>\n",
              "<style scoped>\n",
              "    .dataframe tbody tr th:only-of-type {\n",
              "        vertical-align: middle;\n",
              "    }\n",
              "\n",
              "    .dataframe tbody tr th {\n",
              "        vertical-align: top;\n",
              "    }\n",
              "\n",
              "    .dataframe thead th {\n",
              "        text-align: right;\n",
              "    }\n",
              "</style>\n",
              "<table border=\"1\" class=\"dataframe\">\n",
              "  <thead>\n",
              "    <tr style=\"text-align: right;\">\n",
              "      <th></th>\n",
              "      <th>Class Index</th>\n",
              "      <th>Title</th>\n",
              "      <th>Description</th>\n",
              "    </tr>\n",
              "  </thead>\n",
              "  <tbody>\n",
              "    <tr>\n",
              "      <th>40760</th>\n",
              "      <td>1</td>\n",
              "      <td>Saudi Troops, Gunmen Clash in Riyadh</td>\n",
              "      <td>Saudi security forces, battling a wave of terr...</td>\n",
              "    </tr>\n",
              "    <tr>\n",
              "      <th>85670</th>\n",
              "      <td>1</td>\n",
              "      <td>Rebels Kill 45 in Attacks in Iraq #39;s Baquba</td>\n",
              "      <td>Insurgent attacks and clashes killed 45 people...</td>\n",
              "    </tr>\n",
              "    <tr>\n",
              "      <th>114608</th>\n",
              "      <td>1</td>\n",
              "      <td>Arab press roundup: December 13, 2004</td>\n",
              "      <td>Arab newspaper highlighted and commented on PL...</td>\n",
              "    </tr>\n",
              "    <tr>\n",
              "      <th>91544</th>\n",
              "      <td>2</td>\n",
              "      <td>NCAA Wins Right to Limit Tournaments</td>\n",
              "      <td>New Mexico #39;s Mark Walters (5) is almost tr...</td>\n",
              "    </tr>\n",
              "    <tr>\n",
              "      <th>113198</th>\n",
              "      <td>4</td>\n",
              "      <td>Netflix CEO Rates Blockbuster, Amazon Threats ...</td>\n",
              "      <td>Reuters - Netflix Inc chief\\executive Reed Has...</td>\n",
              "    </tr>\n",
              "  </tbody>\n",
              "</table>\n",
              "</div>"
            ],
            "text/plain": [
              "        Class Index  ...                                        Description\n",
              "40760             1  ...  Saudi security forces, battling a wave of terr...\n",
              "85670             1  ...  Insurgent attacks and clashes killed 45 people...\n",
              "114608            1  ...  Arab newspaper highlighted and commented on PL...\n",
              "91544             2  ...  New Mexico #39;s Mark Walters (5) is almost tr...\n",
              "113198            4  ...  Reuters - Netflix Inc chief\\executive Reed Has...\n",
              "\n",
              "[5 rows x 3 columns]"
            ]
          },
          "metadata": {
            "tags": []
          },
          "execution_count": 7
        }
      ]
    },
    {
      "cell_type": "code",
      "metadata": {
        "id": "tNzv1VD09VTm"
      },
      "source": [
        ""
      ],
      "execution_count": null,
      "outputs": []
    },
    {
      "cell_type": "markdown",
      "metadata": {
        "id": "82jF0DEL9W8o"
      },
      "source": [
        "Training on reduced dataset for active learning"
      ]
    },
    {
      "cell_type": "code",
      "metadata": {
        "id": "TKJhkEdlXLBa"
      },
      "source": [
        "np.random.seed(100)\n",
        "train_al_idx = np.random.choice(train_df.index, size=int(train_df.shape[0]*0.3), replace=False)\n",
        "annotate_idx = list(set(train_df.index) - set(train_al_idx))\n",
        "train_df_al = train_df[train_df.index.isin(train_al_idx)]\n",
        "annotate_df = train_df[train_df.index.isin(annotate_idx)]"
      ],
      "execution_count": null,
      "outputs": []
    },
    {
      "cell_type": "code",
      "metadata": {
        "colab": {
          "base_uri": "https://localhost:8080/",
          "height": 51
        },
        "id": "6V2yXZT_aC3f",
        "outputId": "45ae184e-00bb-4700-c574-123c31304bf9"
      },
      "source": [
        "display(set(annotate_idx).intersection(train_al_idx))\n",
        "display(annotate_df.shape[0] + train_df_al.shape[0] == train_df.shape[0])"
      ],
      "execution_count": null,
      "outputs": [
        {
          "output_type": "display_data",
          "data": {
            "text/plain": [
              "set()"
            ]
          },
          "metadata": {
            "tags": []
          }
        },
        {
          "output_type": "display_data",
          "data": {
            "text/plain": [
              "True"
            ]
          },
          "metadata": {
            "tags": []
          }
        }
      ]
    },
    {
      "cell_type": "code",
      "metadata": {
        "id": "Gf1vl-hnT4Or",
        "colab": {
          "base_uri": "https://localhost:8080/"
        },
        "outputId": "d566ed6e-e2b5-4f59-c0c4-ac6e9ebb3b5a"
      },
      "source": [
        "annotate_df['idx'] = annotate_df.index"
      ],
      "execution_count": null,
      "outputs": [
        {
          "output_type": "stream",
          "text": [
            "/usr/local/lib/python3.7/dist-packages/ipykernel_launcher.py:1: SettingWithCopyWarning: \n",
            "A value is trying to be set on a copy of a slice from a DataFrame.\n",
            "Try using .loc[row_indexer,col_indexer] = value instead\n",
            "\n",
            "See the caveats in the documentation: https://pandas.pydata.org/pandas-docs/stable/user_guide/indexing.html#returning-a-view-versus-a-copy\n",
            "  \"\"\"Entry point for launching an IPython kernel.\n"
          ],
          "name": "stderr"
        }
      ]
    },
    {
      "cell_type": "code",
      "metadata": {
        "id": "yU3q5BVj-bwx",
        "colab": {
          "base_uri": "https://localhost:8080/",
          "height": 266
        },
        "outputId": "79ba8bd4-d623-42c8-d866-61afcce12ede"
      },
      "source": [
        "annotate_df[annotate_df['text'].str.contains(\"#name?\")].sort_values(\"text\")"
      ],
      "execution_count": null,
      "outputs": [
        {
          "output_type": "execute_result",
          "data": {
            "text/html": [
              "<div>\n",
              "<style scoped>\n",
              "    .dataframe tbody tr th:only-of-type {\n",
              "        vertical-align: middle;\n",
              "    }\n",
              "\n",
              "    .dataframe tbody tr th {\n",
              "        vertical-align: top;\n",
              "    }\n",
              "\n",
              "    .dataframe thead th {\n",
              "        text-align: right;\n",
              "    }\n",
              "</style>\n",
              "<table border=\"1\" class=\"dataframe\">\n",
              "  <thead>\n",
              "    <tr style=\"text-align: right;\">\n",
              "      <th></th>\n",
              "      <th>Class Index</th>\n",
              "      <th>Title</th>\n",
              "      <th>Description</th>\n",
              "      <th>text</th>\n",
              "      <th>labels</th>\n",
              "      <th>idx</th>\n",
              "    </tr>\n",
              "  </thead>\n",
              "  <tbody>\n",
              "    <tr>\n",
              "      <th>14245</th>\n",
              "      <td>2</td>\n",
              "      <td>Sabres agree to terms with 2003 first-round pi...</td>\n",
              "      <td>#NAME?</td>\n",
              "      <td>#name?</td>\n",
              "      <td>1</td>\n",
              "      <td>14245</td>\n",
              "    </tr>\n",
              "    <tr>\n",
              "      <th>18296</th>\n",
              "      <td>2</td>\n",
              "      <td>Top of 3rd</td>\n",
              "      <td>#NAME?</td>\n",
              "      <td>#name?</td>\n",
              "      <td>1</td>\n",
              "      <td>18296</td>\n",
              "    </tr>\n",
              "    <tr>\n",
              "      <th>19109</th>\n",
              "      <td>2</td>\n",
              "      <td>Blues re-sign D Backman, four others</td>\n",
              "      <td>#NAME?</td>\n",
              "      <td>#name?</td>\n",
              "      <td>1</td>\n",
              "      <td>19109</td>\n",
              "    </tr>\n",
              "    <tr>\n",
              "      <th>22140</th>\n",
              "      <td>2</td>\n",
              "      <td>Wild re-sign D Schultz</td>\n",
              "      <td>#NAME?</td>\n",
              "      <td>#name?</td>\n",
              "      <td>1</td>\n",
              "      <td>22140</td>\n",
              "    </tr>\n",
              "    <tr>\n",
              "      <th>23174</th>\n",
              "      <td>2</td>\n",
              "      <td>Predators re-sign D Zidlicky</td>\n",
              "      <td>#NAME?</td>\n",
              "      <td>#name?</td>\n",
              "      <td>1</td>\n",
              "      <td>23174</td>\n",
              "    </tr>\n",
              "    <tr>\n",
              "      <th>36665</th>\n",
              "      <td>2</td>\n",
              "      <td>- UMPIRES: Home,Andy Fletcher; First, Tim Welk...</td>\n",
              "      <td>#NAME?</td>\n",
              "      <td>#name?</td>\n",
              "      <td>1</td>\n",
              "      <td>36665</td>\n",
              "    </tr>\n",
              "    <tr>\n",
              "      <th>80894</th>\n",
              "      <td>1</td>\n",
              "      <td>Lynching of agents puts Mexico focus on vigila...</td>\n",
              "      <td>#NAME?</td>\n",
              "      <td>#name?</td>\n",
              "      <td>0</td>\n",
              "      <td>80894</td>\n",
              "    </tr>\n",
              "  </tbody>\n",
              "</table>\n",
              "</div>"
            ],
            "text/plain": [
              "       Class Index  ...    idx\n",
              "14245            2  ...  14245\n",
              "18296            2  ...  18296\n",
              "19109            2  ...  19109\n",
              "22140            2  ...  22140\n",
              "23174            2  ...  23174\n",
              "36665            2  ...  36665\n",
              "80894            1  ...  80894\n",
              "\n",
              "[7 rows x 6 columns]"
            ]
          },
          "metadata": {
            "tags": []
          },
          "execution_count": 39
        }
      ]
    },
    {
      "cell_type": "code",
      "metadata": {
        "id": "En1lrNP27e1E",
        "colab": {
          "base_uri": "https://localhost:8080/",
          "height": 37
        },
        "outputId": "cfa39faa-8c8a-4064-e952-e5a7fc655791"
      },
      "source": [
        "annotate_df.loc[annotate_df.idx == 9566, 'text'].values[0]"
      ],
      "execution_count": null,
      "outputs": [
        {
          "output_type": "execute_result",
          "data": {
            "application/vnd.google.colaboratory.intrinsic+json": {
              "type": "string"
            },
            "text/plain": [
              "'coach joins the s p 500, and others stand to benefit from the leather in the weather.'"
            ]
          },
          "metadata": {
            "tags": []
          },
          "execution_count": 35
        }
      ]
    },
    {
      "cell_type": "code",
      "metadata": {
        "id": "lIQVGP79XWCf"
      },
      "source": [
        "annotate_df[annotate_df['text'].str.contains()]"
      ],
      "execution_count": null,
      "outputs": []
    },
    {
      "cell_type": "code",
      "metadata": {
        "id": "gqdIPvA1Xnxu",
        "colab": {
          "base_uri": "https://localhost:8080/",
          "height": 409
        },
        "outputId": "38f44f53-8f33-4e6c-f355-b974b81ea9a2"
      },
      "source": [
        "## Loading all data to get accuracy scores on them, logits, and probability\n",
        "\n",
        "train_df_al = pd.read_csv(\"/content/drive/MyDrive/fsdl_project/data/active_learning/train.csv.gz\", sep=\"|\", index_col=False)\n",
        "valid_df = pd.read_csv(\"/content/drive/MyDrive/fsdl_project/data/active_learning/valid.csv.gz\", sep=\"|\", index_col=False)\n",
        "test_df = pd.read_csv(\"/content/drive/MyDrive/fsdl_project/data/active_learning/test.csv.gz\", sep=\"|\", index_col=False)\n",
        "annotate_df = pd.read_csv(\"/content/drive/MyDrive/fsdl_project/data/active_learning/annotate.csv.gz\", sep=\"|\", index_col=False)"
      ],
      "execution_count": null,
      "outputs": [
        {
          "output_type": "error",
          "ename": "FileNotFoundError",
          "evalue": "ignored",
          "traceback": [
            "\u001b[0;31m---------------------------------------------------------------------------\u001b[0m",
            "\u001b[0;31mFileNotFoundError\u001b[0m                         Traceback (most recent call last)",
            "\u001b[0;32m<ipython-input-4-82dac693ab60>\u001b[0m in \u001b[0;36m<module>\u001b[0;34m()\u001b[0m\n\u001b[1;32m      4\u001b[0m \u001b[0mvalid_df\u001b[0m \u001b[0;34m=\u001b[0m \u001b[0mpd\u001b[0m\u001b[0;34m.\u001b[0m\u001b[0mread_csv\u001b[0m\u001b[0;34m(\u001b[0m\u001b[0;34m\"/content/drive/MyDrive/fsdl_project/data/active_learning/valid.csv.gz\"\u001b[0m\u001b[0;34m,\u001b[0m \u001b[0msep\u001b[0m\u001b[0;34m=\u001b[0m\u001b[0;34m\"|\"\u001b[0m\u001b[0;34m,\u001b[0m \u001b[0mindex_col\u001b[0m\u001b[0;34m=\u001b[0m\u001b[0;32mFalse\u001b[0m\u001b[0;34m)\u001b[0m\u001b[0;34m\u001b[0m\u001b[0;34m\u001b[0m\u001b[0m\n\u001b[1;32m      5\u001b[0m \u001b[0mtest_df\u001b[0m \u001b[0;34m=\u001b[0m \u001b[0mpd\u001b[0m\u001b[0;34m.\u001b[0m\u001b[0mread_csv\u001b[0m\u001b[0;34m(\u001b[0m\u001b[0;34m\"/content/drive/MyDrive/fsdl_project/data/active_learning/test.csv.gz\"\u001b[0m\u001b[0;34m,\u001b[0m \u001b[0msep\u001b[0m\u001b[0;34m=\u001b[0m\u001b[0;34m\"|\"\u001b[0m\u001b[0;34m,\u001b[0m \u001b[0mindex_col\u001b[0m\u001b[0;34m=\u001b[0m\u001b[0;32mFalse\u001b[0m\u001b[0;34m)\u001b[0m\u001b[0;34m\u001b[0m\u001b[0;34m\u001b[0m\u001b[0m\n\u001b[0;32m----> 6\u001b[0;31m \u001b[0mannotate_df\u001b[0m \u001b[0;34m=\u001b[0m \u001b[0mpd\u001b[0m\u001b[0;34m.\u001b[0m\u001b[0mread_csv\u001b[0m\u001b[0;34m(\u001b[0m\u001b[0;34m\"/content/drive/MyDrive/fsdl_project/data/active_learning/annotate.csv.gz\"\u001b[0m\u001b[0;34m,\u001b[0m \u001b[0msep\u001b[0m\u001b[0;34m=\u001b[0m\u001b[0;34m\"|\"\u001b[0m\u001b[0;34m,\u001b[0m \u001b[0mindex_col\u001b[0m\u001b[0;34m=\u001b[0m\u001b[0;32mFalse\u001b[0m\u001b[0;34m)\u001b[0m\u001b[0;34m\u001b[0m\u001b[0;34m\u001b[0m\u001b[0m\n\u001b[0m",
            "\u001b[0;32m/usr/local/lib/python3.7/dist-packages/pandas/io/parsers.py\u001b[0m in \u001b[0;36mread_csv\u001b[0;34m(filepath_or_buffer, sep, delimiter, header, names, index_col, usecols, squeeze, prefix, mangle_dupe_cols, dtype, engine, converters, true_values, false_values, skipinitialspace, skiprows, skipfooter, nrows, na_values, keep_default_na, na_filter, verbose, skip_blank_lines, parse_dates, infer_datetime_format, keep_date_col, date_parser, dayfirst, cache_dates, iterator, chunksize, compression, thousands, decimal, lineterminator, quotechar, quoting, doublequote, escapechar, comment, encoding, dialect, error_bad_lines, warn_bad_lines, delim_whitespace, low_memory, memory_map, float_precision)\u001b[0m\n\u001b[1;32m    686\u001b[0m     )\n\u001b[1;32m    687\u001b[0m \u001b[0;34m\u001b[0m\u001b[0m\n\u001b[0;32m--> 688\u001b[0;31m     \u001b[0;32mreturn\u001b[0m \u001b[0m_read\u001b[0m\u001b[0;34m(\u001b[0m\u001b[0mfilepath_or_buffer\u001b[0m\u001b[0;34m,\u001b[0m \u001b[0mkwds\u001b[0m\u001b[0;34m)\u001b[0m\u001b[0;34m\u001b[0m\u001b[0;34m\u001b[0m\u001b[0m\n\u001b[0m\u001b[1;32m    689\u001b[0m \u001b[0;34m\u001b[0m\u001b[0m\n\u001b[1;32m    690\u001b[0m \u001b[0;34m\u001b[0m\u001b[0m\n",
            "\u001b[0;32m/usr/local/lib/python3.7/dist-packages/pandas/io/parsers.py\u001b[0m in \u001b[0;36m_read\u001b[0;34m(filepath_or_buffer, kwds)\u001b[0m\n\u001b[1;32m    452\u001b[0m \u001b[0;34m\u001b[0m\u001b[0m\n\u001b[1;32m    453\u001b[0m     \u001b[0;31m# Create the parser.\u001b[0m\u001b[0;34m\u001b[0m\u001b[0;34m\u001b[0m\u001b[0;34m\u001b[0m\u001b[0m\n\u001b[0;32m--> 454\u001b[0;31m     \u001b[0mparser\u001b[0m \u001b[0;34m=\u001b[0m \u001b[0mTextFileReader\u001b[0m\u001b[0;34m(\u001b[0m\u001b[0mfp_or_buf\u001b[0m\u001b[0;34m,\u001b[0m \u001b[0;34m**\u001b[0m\u001b[0mkwds\u001b[0m\u001b[0;34m)\u001b[0m\u001b[0;34m\u001b[0m\u001b[0;34m\u001b[0m\u001b[0m\n\u001b[0m\u001b[1;32m    455\u001b[0m \u001b[0;34m\u001b[0m\u001b[0m\n\u001b[1;32m    456\u001b[0m     \u001b[0;32mif\u001b[0m \u001b[0mchunksize\u001b[0m \u001b[0;32mor\u001b[0m \u001b[0miterator\u001b[0m\u001b[0;34m:\u001b[0m\u001b[0;34m\u001b[0m\u001b[0;34m\u001b[0m\u001b[0m\n",
            "\u001b[0;32m/usr/local/lib/python3.7/dist-packages/pandas/io/parsers.py\u001b[0m in \u001b[0;36m__init__\u001b[0;34m(self, f, engine, **kwds)\u001b[0m\n\u001b[1;32m    946\u001b[0m             \u001b[0mself\u001b[0m\u001b[0;34m.\u001b[0m\u001b[0moptions\u001b[0m\u001b[0;34m[\u001b[0m\u001b[0;34m\"has_index_names\"\u001b[0m\u001b[0;34m]\u001b[0m \u001b[0;34m=\u001b[0m \u001b[0mkwds\u001b[0m\u001b[0;34m[\u001b[0m\u001b[0;34m\"has_index_names\"\u001b[0m\u001b[0;34m]\u001b[0m\u001b[0;34m\u001b[0m\u001b[0;34m\u001b[0m\u001b[0m\n\u001b[1;32m    947\u001b[0m \u001b[0;34m\u001b[0m\u001b[0m\n\u001b[0;32m--> 948\u001b[0;31m         \u001b[0mself\u001b[0m\u001b[0;34m.\u001b[0m\u001b[0m_make_engine\u001b[0m\u001b[0;34m(\u001b[0m\u001b[0mself\u001b[0m\u001b[0;34m.\u001b[0m\u001b[0mengine\u001b[0m\u001b[0;34m)\u001b[0m\u001b[0;34m\u001b[0m\u001b[0;34m\u001b[0m\u001b[0m\n\u001b[0m\u001b[1;32m    949\u001b[0m \u001b[0;34m\u001b[0m\u001b[0m\n\u001b[1;32m    950\u001b[0m     \u001b[0;32mdef\u001b[0m \u001b[0mclose\u001b[0m\u001b[0;34m(\u001b[0m\u001b[0mself\u001b[0m\u001b[0;34m)\u001b[0m\u001b[0;34m:\u001b[0m\u001b[0;34m\u001b[0m\u001b[0;34m\u001b[0m\u001b[0m\n",
            "\u001b[0;32m/usr/local/lib/python3.7/dist-packages/pandas/io/parsers.py\u001b[0m in \u001b[0;36m_make_engine\u001b[0;34m(self, engine)\u001b[0m\n\u001b[1;32m   1178\u001b[0m     \u001b[0;32mdef\u001b[0m \u001b[0m_make_engine\u001b[0m\u001b[0;34m(\u001b[0m\u001b[0mself\u001b[0m\u001b[0;34m,\u001b[0m \u001b[0mengine\u001b[0m\u001b[0;34m=\u001b[0m\u001b[0;34m\"c\"\u001b[0m\u001b[0;34m)\u001b[0m\u001b[0;34m:\u001b[0m\u001b[0;34m\u001b[0m\u001b[0;34m\u001b[0m\u001b[0m\n\u001b[1;32m   1179\u001b[0m         \u001b[0;32mif\u001b[0m \u001b[0mengine\u001b[0m \u001b[0;34m==\u001b[0m \u001b[0;34m\"c\"\u001b[0m\u001b[0;34m:\u001b[0m\u001b[0;34m\u001b[0m\u001b[0;34m\u001b[0m\u001b[0m\n\u001b[0;32m-> 1180\u001b[0;31m             \u001b[0mself\u001b[0m\u001b[0;34m.\u001b[0m\u001b[0m_engine\u001b[0m \u001b[0;34m=\u001b[0m \u001b[0mCParserWrapper\u001b[0m\u001b[0;34m(\u001b[0m\u001b[0mself\u001b[0m\u001b[0;34m.\u001b[0m\u001b[0mf\u001b[0m\u001b[0;34m,\u001b[0m \u001b[0;34m**\u001b[0m\u001b[0mself\u001b[0m\u001b[0;34m.\u001b[0m\u001b[0moptions\u001b[0m\u001b[0;34m)\u001b[0m\u001b[0;34m\u001b[0m\u001b[0;34m\u001b[0m\u001b[0m\n\u001b[0m\u001b[1;32m   1181\u001b[0m         \u001b[0;32melse\u001b[0m\u001b[0;34m:\u001b[0m\u001b[0;34m\u001b[0m\u001b[0;34m\u001b[0m\u001b[0m\n\u001b[1;32m   1182\u001b[0m             \u001b[0;32mif\u001b[0m \u001b[0mengine\u001b[0m \u001b[0;34m==\u001b[0m \u001b[0;34m\"python\"\u001b[0m\u001b[0;34m:\u001b[0m\u001b[0;34m\u001b[0m\u001b[0;34m\u001b[0m\u001b[0m\n",
            "\u001b[0;32m/usr/local/lib/python3.7/dist-packages/pandas/io/parsers.py\u001b[0m in \u001b[0;36m__init__\u001b[0;34m(self, src, **kwds)\u001b[0m\n\u001b[1;32m   2008\u001b[0m         \u001b[0mkwds\u001b[0m\u001b[0;34m[\u001b[0m\u001b[0;34m\"usecols\"\u001b[0m\u001b[0;34m]\u001b[0m \u001b[0;34m=\u001b[0m \u001b[0mself\u001b[0m\u001b[0;34m.\u001b[0m\u001b[0musecols\u001b[0m\u001b[0;34m\u001b[0m\u001b[0;34m\u001b[0m\u001b[0m\n\u001b[1;32m   2009\u001b[0m \u001b[0;34m\u001b[0m\u001b[0m\n\u001b[0;32m-> 2010\u001b[0;31m         \u001b[0mself\u001b[0m\u001b[0;34m.\u001b[0m\u001b[0m_reader\u001b[0m \u001b[0;34m=\u001b[0m \u001b[0mparsers\u001b[0m\u001b[0;34m.\u001b[0m\u001b[0mTextReader\u001b[0m\u001b[0;34m(\u001b[0m\u001b[0msrc\u001b[0m\u001b[0;34m,\u001b[0m \u001b[0;34m**\u001b[0m\u001b[0mkwds\u001b[0m\u001b[0;34m)\u001b[0m\u001b[0;34m\u001b[0m\u001b[0;34m\u001b[0m\u001b[0m\n\u001b[0m\u001b[1;32m   2011\u001b[0m         \u001b[0mself\u001b[0m\u001b[0;34m.\u001b[0m\u001b[0munnamed_cols\u001b[0m \u001b[0;34m=\u001b[0m \u001b[0mself\u001b[0m\u001b[0;34m.\u001b[0m\u001b[0m_reader\u001b[0m\u001b[0;34m.\u001b[0m\u001b[0munnamed_cols\u001b[0m\u001b[0;34m\u001b[0m\u001b[0;34m\u001b[0m\u001b[0m\n\u001b[1;32m   2012\u001b[0m \u001b[0;34m\u001b[0m\u001b[0m\n",
            "\u001b[0;32mpandas/_libs/parsers.pyx\u001b[0m in \u001b[0;36mpandas._libs.parsers.TextReader.__cinit__\u001b[0;34m()\u001b[0m\n",
            "\u001b[0;32mpandas/_libs/parsers.pyx\u001b[0m in \u001b[0;36mpandas._libs.parsers.TextReader._setup_parser_source\u001b[0;34m()\u001b[0m\n",
            "\u001b[0;32m/usr/lib/python3.7/gzip.py\u001b[0m in \u001b[0;36m__init__\u001b[0;34m(self, filename, mode, compresslevel, fileobj, mtime)\u001b[0m\n\u001b[1;32m    166\u001b[0m             \u001b[0mmode\u001b[0m \u001b[0;34m+=\u001b[0m \u001b[0;34m'b'\u001b[0m\u001b[0;34m\u001b[0m\u001b[0;34m\u001b[0m\u001b[0m\n\u001b[1;32m    167\u001b[0m         \u001b[0;32mif\u001b[0m \u001b[0mfileobj\u001b[0m \u001b[0;32mis\u001b[0m \u001b[0;32mNone\u001b[0m\u001b[0;34m:\u001b[0m\u001b[0;34m\u001b[0m\u001b[0;34m\u001b[0m\u001b[0m\n\u001b[0;32m--> 168\u001b[0;31m             \u001b[0mfileobj\u001b[0m \u001b[0;34m=\u001b[0m \u001b[0mself\u001b[0m\u001b[0;34m.\u001b[0m\u001b[0mmyfileobj\u001b[0m \u001b[0;34m=\u001b[0m \u001b[0mbuiltins\u001b[0m\u001b[0;34m.\u001b[0m\u001b[0mopen\u001b[0m\u001b[0;34m(\u001b[0m\u001b[0mfilename\u001b[0m\u001b[0;34m,\u001b[0m \u001b[0mmode\u001b[0m \u001b[0;32mor\u001b[0m \u001b[0;34m'rb'\u001b[0m\u001b[0;34m)\u001b[0m\u001b[0;34m\u001b[0m\u001b[0;34m\u001b[0m\u001b[0m\n\u001b[0m\u001b[1;32m    169\u001b[0m         \u001b[0;32mif\u001b[0m \u001b[0mfilename\u001b[0m \u001b[0;32mis\u001b[0m \u001b[0;32mNone\u001b[0m\u001b[0;34m:\u001b[0m\u001b[0;34m\u001b[0m\u001b[0;34m\u001b[0m\u001b[0m\n\u001b[1;32m    170\u001b[0m             \u001b[0mfilename\u001b[0m \u001b[0;34m=\u001b[0m \u001b[0mgetattr\u001b[0m\u001b[0;34m(\u001b[0m\u001b[0mfileobj\u001b[0m\u001b[0;34m,\u001b[0m \u001b[0;34m'name'\u001b[0m\u001b[0;34m,\u001b[0m \u001b[0;34m''\u001b[0m\u001b[0;34m)\u001b[0m\u001b[0;34m\u001b[0m\u001b[0;34m\u001b[0m\u001b[0m\n",
            "\u001b[0;31mFileNotFoundError\u001b[0m: [Errno 2] No such file or directory: '/content/drive/MyDrive/fsdl_project/data/active_learning/annotate.csv.gz'"
          ]
        }
      ]
    },
    {
      "cell_type": "code",
      "metadata": {
        "colab": {
          "base_uri": "https://localhost:8080/",
          "height": 204
        },
        "id": "lrGhdaaM9_gx",
        "outputId": "8dfa3e97-3eb3-408f-ffc6-e21bbf7d5965"
      },
      "source": [
        "train_df_al.head()"
      ],
      "execution_count": null,
      "outputs": [
        {
          "output_type": "execute_result",
          "data": {
            "text/html": [
              "<div>\n",
              "<style scoped>\n",
              "    .dataframe tbody tr th:only-of-type {\n",
              "        vertical-align: middle;\n",
              "    }\n",
              "\n",
              "    .dataframe tbody tr th {\n",
              "        vertical-align: top;\n",
              "    }\n",
              "\n",
              "    .dataframe thead th {\n",
              "        text-align: right;\n",
              "    }\n",
              "</style>\n",
              "<table border=\"1\" class=\"dataframe\">\n",
              "  <thead>\n",
              "    <tr style=\"text-align: right;\">\n",
              "      <th></th>\n",
              "      <th>Class Index</th>\n",
              "      <th>Title</th>\n",
              "      <th>Description</th>\n",
              "      <th>text</th>\n",
              "      <th>labels</th>\n",
              "    </tr>\n",
              "  </thead>\n",
              "  <tbody>\n",
              "    <tr>\n",
              "      <th>0</th>\n",
              "      <td>3</td>\n",
              "      <td>Money Funds Fell in Latest Week (AP)</td>\n",
              "      <td>AP - Assets of the nation's retail money marke...</td>\n",
              "      <td>ap - assets of the nation's retail money marke...</td>\n",
              "      <td>2</td>\n",
              "    </tr>\n",
              "    <tr>\n",
              "      <th>1</th>\n",
              "      <td>3</td>\n",
              "      <td>Fed minutes show dissent over inflation (USATO...</td>\n",
              "      <td>USATODAY.com - Retail sales bounced back a bit...</td>\n",
              "      <td>usatoday.com - retail sales bounced back a bit...</td>\n",
              "      <td>2</td>\n",
              "    </tr>\n",
              "    <tr>\n",
              "      <th>2</th>\n",
              "      <td>3</td>\n",
              "      <td>Safety Net (Forbes.com)</td>\n",
              "      <td>Forbes.com - After earning a PH.D. in Sociolog...</td>\n",
              "      <td>forbes.com - after earning a ph.d. in sociolog...</td>\n",
              "      <td>2</td>\n",
              "    </tr>\n",
              "    <tr>\n",
              "      <th>3</th>\n",
              "      <td>3</td>\n",
              "      <td>No Need for OPEC to Pump More-Iran Gov</td>\n",
              "      <td>TEHRAN (Reuters) - OPEC can do nothing to dou...</td>\n",
              "      <td>tehran (reuters) - opec can do nothing to dou...</td>\n",
              "      <td>2</td>\n",
              "    </tr>\n",
              "    <tr>\n",
              "      <th>4</th>\n",
              "      <td>3</td>\n",
              "      <td>Shell 'could be target for Total'</td>\n",
              "      <td>Oil giant Shell could be bracing itself for a ...</td>\n",
              "      <td>oil giant shell could be bracing itself for a ...</td>\n",
              "      <td>2</td>\n",
              "    </tr>\n",
              "  </tbody>\n",
              "</table>\n",
              "</div>"
            ],
            "text/plain": [
              "   Class Index  ... labels\n",
              "0            3  ...      2\n",
              "1            3  ...      2\n",
              "2            3  ...      2\n",
              "3            3  ...      2\n",
              "4            3  ...      2\n",
              "\n",
              "[5 rows x 5 columns]"
            ]
          },
          "metadata": {
            "tags": []
          },
          "execution_count": 4
        }
      ]
    },
    {
      "cell_type": "code",
      "metadata": {
        "colab": {
          "base_uri": "https://localhost:8080/",
          "height": 204
        },
        "id": "Vfdz5kCSQrMT",
        "outputId": "3cfae7d4-98ab-4258-e71d-9d1eba264e1f"
      },
      "source": [
        "annotate_df.head()"
      ],
      "execution_count": null,
      "outputs": [
        {
          "output_type": "execute_result",
          "data": {
            "text/html": [
              "<div>\n",
              "<style scoped>\n",
              "    .dataframe tbody tr th:only-of-type {\n",
              "        vertical-align: middle;\n",
              "    }\n",
              "\n",
              "    .dataframe tbody tr th {\n",
              "        vertical-align: top;\n",
              "    }\n",
              "\n",
              "    .dataframe thead th {\n",
              "        text-align: right;\n",
              "    }\n",
              "</style>\n",
              "<table border=\"1\" class=\"dataframe\">\n",
              "  <thead>\n",
              "    <tr style=\"text-align: right;\">\n",
              "      <th></th>\n",
              "      <th>Class Index</th>\n",
              "      <th>Title</th>\n",
              "      <th>Description</th>\n",
              "      <th>text</th>\n",
              "      <th>labels</th>\n",
              "      <th>idx</th>\n",
              "    </tr>\n",
              "  </thead>\n",
              "  <tbody>\n",
              "    <tr>\n",
              "      <th>0</th>\n",
              "      <td>3</td>\n",
              "      <td>Wall St. Bears Claw Back Into the Black (Reuters)</td>\n",
              "      <td>Reuters - Short-sellers, Wall Street's dwindli...</td>\n",
              "      <td>reuters - short-sellers, wall street's dwindli...</td>\n",
              "      <td>2</td>\n",
              "      <td>0</td>\n",
              "    </tr>\n",
              "    <tr>\n",
              "      <th>1</th>\n",
              "      <td>3</td>\n",
              "      <td>Oil and Economy Cloud Stocks' Outlook (Reuters)</td>\n",
              "      <td>Reuters - Soaring crude prices plus worries\\ab...</td>\n",
              "      <td>reuters - soaring crude prices plus worries\\ab...</td>\n",
              "      <td>2</td>\n",
              "      <td>1</td>\n",
              "    </tr>\n",
              "    <tr>\n",
              "      <th>2</th>\n",
              "      <td>3</td>\n",
              "      <td>Iraq Halts Oil Exports from Main Southern Pipe...</td>\n",
              "      <td>Reuters - Authorities have halted oil export\\f...</td>\n",
              "      <td>reuters - authorities have halted oil export\\f...</td>\n",
              "      <td>2</td>\n",
              "      <td>2</td>\n",
              "    </tr>\n",
              "    <tr>\n",
              "      <th>3</th>\n",
              "      <td>3</td>\n",
              "      <td>Oil prices soar to all-time record, posing new...</td>\n",
              "      <td>AFP - Tearaway world oil prices, toppling reco...</td>\n",
              "      <td>afp - tearaway world oil prices, toppling reco...</td>\n",
              "      <td>2</td>\n",
              "      <td>3</td>\n",
              "    </tr>\n",
              "    <tr>\n",
              "      <th>4</th>\n",
              "      <td>3</td>\n",
              "      <td>Stocks End Up, But Near Year Lows (Reuters)</td>\n",
              "      <td>Reuters - Stocks ended slightly higher on Frid...</td>\n",
              "      <td>reuters - stocks ended slightly higher on frid...</td>\n",
              "      <td>2</td>\n",
              "      <td>4</td>\n",
              "    </tr>\n",
              "  </tbody>\n",
              "</table>\n",
              "</div>"
            ],
            "text/plain": [
              "   Class Index                                              Title  ... labels idx\n",
              "0            3  Wall St. Bears Claw Back Into the Black (Reuters)  ...      2   0\n",
              "1            3    Oil and Economy Cloud Stocks' Outlook (Reuters)  ...      2   1\n",
              "2            3  Iraq Halts Oil Exports from Main Southern Pipe...  ...      2   2\n",
              "3            3  Oil prices soar to all-time record, posing new...  ...      2   3\n",
              "4            3        Stocks End Up, But Near Year Lows (Reuters)  ...      2   4\n",
              "\n",
              "[5 rows x 6 columns]"
            ]
          },
          "metadata": {
            "tags": []
          },
          "execution_count": 5
        }
      ]
    },
    {
      "cell_type": "code",
      "metadata": {
        "id": "uiCPrbuzQvOW"
      },
      "source": [
        "## We are going to take only 1000 randomly choosen examples from above train data to train our model\n",
        "train_df = train_df_al.sample(1000, random_state=100)"
      ],
      "execution_count": null,
      "outputs": []
    },
    {
      "cell_type": "code",
      "metadata": {
        "id": "SwRK6iaPQ8GP"
      },
      "source": [
        "train_df.to_csv(\"/content/drive/MyDrive/fsdl_project/data/active_learning/train_1000.csv.gz\", sep=\"|\", index=False, compression=\"gzip\")"
      ],
      "execution_count": null,
      "outputs": []
    },
    {
      "cell_type": "code",
      "metadata": {
        "id": "jwuSGGTR8r-F"
      },
      "source": [
        "train_df_6000 = train_df_al.sample(6000, random_state=100)"
      ],
      "execution_count": null,
      "outputs": []
    },
    {
      "cell_type": "code",
      "metadata": {
        "id": "duT-MkmJ82wt"
      },
      "source": [
        "train_df_6000.to_csv(\"/content/drive/MyDrive/fsdl_project/data/active_learning/train_6000.csv.gz\", sep=\"|\", index=False, compression=\"gzip\")"
      ],
      "execution_count": null,
      "outputs": []
    },
    {
      "cell_type": "code",
      "metadata": {
        "id": "ICMFRUOnRkQO"
      },
      "source": [
        "# train_df_al.to_csv(\"/content/drive/MyDrive/fsdl_project/data/active_learning/train.csv.gz\", sep=\"|\", index=False, compression='gzip')\n",
        "# annotate_df.to_csv(\"/content/drive/MyDrive/fsdl_project/data/active_learning/annotate.csv.gz\", sep=\"|\", index=False, compression='gzip')\n",
        "# valid_df.to_csv(\"/content/drive/MyDrive/fsdl_project/data/active_learning/valid.csv.gz\", sep=\"|\", index=False, compression='gzip')\n",
        "# test_df.to_csv(\"/content/drive/MyDrive/fsdl_project/data/active_learning/test.csv.gz\", sep=\"|\", index=False, compression='gzip')"
      ],
      "execution_count": null,
      "outputs": []
    },
    {
      "cell_type": "code",
      "metadata": {
        "id": "1-NCKkt29Dfp"
      },
      "source": [
        "## Training RoBERTa on 1000 training sample to obtain baseline accuracy on test data\n",
        "\n",
        "# Optional model configuration\n",
        "\n",
        "mid_model_args = ClassificationArgs(num_train_epochs=5, \n",
        "                                overwrite_output_dir= True, \n",
        "                                train_batch_size=16,\n",
        "                                max_seq_length=256, \n",
        "                                wandb_project= 'active_learning_6000_20210512', \n",
        "                                best_model_dir=\"/content/drive/MyDrive/fsdl_project/model/active_learning/6000/best_model/20210512\",\n",
        "                                cache_dir=\"/content/drive/MyDrive/fsdl_project/cache/active_learning/6000/20210512\",\n",
        "                                eval_batch_size=16,\n",
        "                                evaluate_during_training=True,\n",
        "                                evaluate_during_training_verbose=True,\n",
        "                                manual_seed=100,\n",
        "                                output_dir=\"content/drive/MyDrive/fsdl_project/output/active_learning/6000/20210512\",\n",
        "                                # no_cache = True,\n",
        "                                use_early_stopping=True,\n",
        "                                early_stopping_patience=3,\n",
        "                                )\n",
        "\n",
        "\n",
        "# Create a ClassificationModel\n",
        "mid_model = ClassificationModel(\n",
        "\"roberta\", \"roberta-base\", args=mid_model_args, use_cuda=True, num_labels=4,\n",
        ")\n",
        "\n",
        "mid_model.train_model(train_df=train_df_6000, eval_df=valid_df, accuracy=accuracy_score)\n"
      ],
      "execution_count": null,
      "outputs": []
    },
    {
      "cell_type": "code",
      "metadata": {
        "id": "1dEnyQBm9shD"
      },
      "source": [
        "test_result, test_model_outputs, test_wrong_predictions = mid_model.eval_model(test_df, accuracy = accuracy_score)\n",
        "valid_result, valid_model_outputs, valid_wrong_predictions = mid_model.eval_model(valid_df, accuracy = accuracy_score)\n",
        "train_result, train_model_outputs, train_wrong_predictions = mid_model.eval_model(train_df_6000, accuracy = accuracy_score)\n",
        "log_to_wandb = {f'test_{key}': item for key, item in test_result.items()}\n",
        "log_to_wandb.update({f'train_{key}': item for key, item in train_result.items()})\n",
        "log_to_wandb.update({f'valid_{key}': item for key, item in valid_result.items()})\n",
        "log_to_wandb\n"
      ],
      "execution_count": null,
      "outputs": []
    },
    {
      "cell_type": "code",
      "metadata": {
        "id": "5qBX9wr097ex"
      },
      "source": [
        "os.mkdir(\"/content/drive/MyDrive/fsdl_project/result/active_learning/20210512\")"
      ],
      "execution_count": null,
      "outputs": []
    },
    {
      "cell_type": "code",
      "metadata": {
        "colab": {
          "base_uri": "https://localhost:8080/"
        },
        "id": "nTYmzEGbNZmn",
        "outputId": "b0c78e5d-631e-4c9b-9eea-2341c7ac03c5"
      },
      "source": [
        "log_to_wandb"
      ],
      "execution_count": null,
      "outputs": [
        {
          "output_type": "execute_result",
          "data": {
            "text/plain": [
              "{'test_accuracy': 0.9052631578947369,\n",
              " 'test_eval_loss': 0.46176427139533,\n",
              " 'test_mcc': 0.8736933468410781,\n",
              " 'train_accuracy': 0.9883333333333333,\n",
              " 'train_eval_loss': 0.046081207289981344,\n",
              " 'train_mcc': 0.9844555672177369,\n",
              " 'valid_accuracy': 0.907125,\n",
              " 'valid_eval_loss': 0.4330419914466329,\n",
              " 'valid_mcc': 0.8761829392366339}"
            ]
          },
          "metadata": {
            "tags": []
          },
          "execution_count": 13
        }
      ]
    },
    {
      "cell_type": "code",
      "metadata": {
        "id": "wXiaUd7e98Lo"
      },
      "source": [
        "import json\n",
        "with open(\"/content/drive/MyDrive/fsdl_project/result/active_learning/20210512/initial_train_stats_6000_20210512.json\", 'w') as outfile:\n",
        "    json.dump(log_to_wandb, outfile, indent=4)"
      ],
      "execution_count": null,
      "outputs": []
    },
    {
      "cell_type": "code",
      "metadata": {
        "id": "o463wnL_Rg04"
      },
      "source": [
        "# ## Training RoBERTa on 1000 training sample to obtain baseline accuracy on test data\n",
        "\n",
        "# # Optional model configuration\n",
        "\n",
        "# al_model_args = ClassificationArgs(num_train_epochs=5, \n",
        "#                                 overwrite_output_dir= True, \n",
        "#                                 train_batch_size=16,\n",
        "#                                 max_seq_length=256, \n",
        "#                                 wandb_project= 'active_learning_1000_20210510', \n",
        "#                                 best_model_dir=\"/content/drive/MyDrive/fsdl_project/model/active_learning/1000/best_model/20210510\",\n",
        "#                                 cache_dir=\"/content/drive/MyDrive/fsdl_project/cache/active_learning/1000/20210510\",\n",
        "#                                 eval_batch_size=16,\n",
        "#                                 evaluate_during_training=True,\n",
        "#                                 evaluate_during_training_verbose=True,\n",
        "#                                 manual_seed=100,\n",
        "#                                 output_dir=\"content/drive/MyDrive/fsdl_project/output/active_learning/1000/20210510\",\n",
        "#                                 # no_cache = True,\n",
        "#                                 use_early_stopping=True,\n",
        "#                                 early_stopping_patience=3,\n",
        "#                                 )\n",
        "\n",
        "\n",
        "# # Create a ClassificationModel\n",
        "# al_model = ClassificationModel(\n",
        "# \"roberta\", \"roberta-base\", args=al_model_args, use_cuda=True, num_labels=4,\n",
        "# )\n",
        "\n",
        "# al_model.train_model(train_df=train_df, eval_df=valid_df, accuracy=accuracy_score)\n"
      ],
      "execution_count": null,
      "outputs": []
    },
    {
      "cell_type": "code",
      "metadata": {
        "id": "BmWvDbchMXcb"
      },
      "source": [
        "### Initial trained model on large training data\n",
        "##-----------------------------------------------###\n",
        "\n",
        "\n",
        "## Training RoBERTa on truncated training set to obtain baseline accuracy on test data\n",
        "\n",
        "# Optional model configuration\n",
        "\n",
        "# al_model_args = ClassificationArgs(num_train_epochs=5, \n",
        "#                                 overwrite_output_dir= True, \n",
        "#                                 train_batch_size=16,\n",
        "#                                 max_seq_length=256, \n",
        "#                                 wandb_project= 'active_learning_20210510', \n",
        "#                                 best_model_dir=\"/content/drive/MyDrive/fsdl_project/model/active_learning/best_model/20210510\",\n",
        "#                                 cache_dir=\"/content/drive/MyDrive/fsdl_project/cache/active_learning/20210510\",\n",
        "#                                 eval_batch_size=16,\n",
        "#                                 evaluate_during_training=True,\n",
        "#                                 evaluate_during_training_verbose=True,\n",
        "#                                 manual_seed=100,\n",
        "#                                 output_dir=\"content/drive/MyDrive/fsdl_project/output/active_learning/20210510\",\n",
        "#                                 # no_cache = True,\n",
        "#                                 use_early_stopping=True,\n",
        "#                                 early_stopping_patience=3,\n",
        "#                                 )\n",
        "\n",
        "\n",
        "# # Create a ClassificationModel\n",
        "# al_model = ClassificationModel(\n",
        "# \"roberta\", \"roberta-base\", args=al_model_args, use_cuda=True, num_labels=4,\n",
        "# )\n",
        "\n",
        "# al_model.train_model(train_df=train_df_al, eval_df=valid_df, accuracy=accuracy_score)\n",
        "\n",
        "##--------------------------------"
      ],
      "execution_count": null,
      "outputs": []
    },
    {
      "cell_type": "code",
      "metadata": {
        "id": "MpS9XBi-MOEU"
      },
      "source": [
        "# ## loading model\n",
        "al_model = ClassificationModel(\n",
        "\"roberta\", al_model_args.best_model_dir\n",
        ")"
      ],
      "execution_count": null,
      "outputs": []
    },
    {
      "cell_type": "code",
      "metadata": {
        "id": "G4I6L_ZvMuDE"
      },
      "source": [
        "test_result, test_model_outputs, test_wrong_predictions = al_model.eval_model(test_df, accuracy = accuracy_score)\n",
        "valid_result, valid_model_outputs, valid_wrong_predictions = al_model.eval_model(valid_df, accuracy = accuracy_score)\n",
        "train_result, train_model_outputs, train_wrong_predictions = al_model.eval_model(train_df, accuracy = accuracy_score)"
      ],
      "execution_count": null,
      "outputs": []
    },
    {
      "cell_type": "code",
      "metadata": {
        "colab": {
          "base_uri": "https://localhost:8080/"
        },
        "id": "RylCMhLsUH0I",
        "outputId": "0602eb33-11e7-472e-efb8-bcced32da185"
      },
      "source": [
        "test_result"
      ],
      "execution_count": null,
      "outputs": [
        {
          "output_type": "execute_result",
          "data": {
            "text/plain": [
              "{'accuracy': 0.8688157894736842,\n",
              " 'eval_loss': 0.42330945989803265,\n",
              " 'mcc': 0.8268612843070937}"
            ]
          },
          "metadata": {
            "tags": []
          },
          "execution_count": 18
        }
      ]
    },
    {
      "cell_type": "code",
      "metadata": {
        "id": "9424lETxQrtj"
      },
      "source": [
        "log_to_wandb = {f'test_{key}': item for key, item in test_result.items()}\n",
        "log_to_wandb.update({f'train_{key}': item for key, item in train_result.items()})\n",
        "log_to_wandb.update({f'valid_{key}': item for key, item in valid_result.items()})"
      ],
      "execution_count": null,
      "outputs": []
    },
    {
      "cell_type": "code",
      "metadata": {
        "colab": {
          "base_uri": "https://localhost:8080/"
        },
        "id": "Y7r_xzsucYcp",
        "outputId": "5a2433e8-c8e9-4973-8949-077370e3ce86"
      },
      "source": [
        "log_to_wandb"
      ],
      "execution_count": null,
      "outputs": [
        {
          "output_type": "execute_result",
          "data": {
            "text/plain": [
              "{'test_accuracy': 0.9230263157894737,\n",
              " 'test_eval_loss': 0.3959990933331612,\n",
              " 'test_mcc': 0.8974095014721511,\n",
              " 'train_accuracy': 0.9876736111111111,\n",
              " 'train_eval_loss': 0.053259740840294396,\n",
              " 'train_mcc': 0.9835782903636949,\n",
              " 'valid_accuracy': 0.9295,\n",
              " 'valid_eval_loss': 0.3732603291405637,\n",
              " 'valid_mcc': 0.9060107576776867}"
            ]
          },
          "metadata": {
            "tags": []
          },
          "execution_count": 10
        }
      ]
    },
    {
      "cell_type": "code",
      "metadata": {
        "id": "jKASciqOQ6J1"
      },
      "source": [
        "# os.mkdir(\"/content/drive/MyDrive/fsdl_project/result/\")\n",
        "# os.mkdir(\"/content/drive/MyDrive/fsdl_project/result/active_learning/\")\n",
        "os.mkdir(\"/content/drive/MyDrive/fsdl_project/result/active_learning/20210421\")\n",
        "# os.mkdir(\"/content/drive/MyDrive/fsdl_project/result/baseline\")"
      ],
      "execution_count": null,
      "outputs": []
    },
    {
      "cell_type": "code",
      "metadata": {
        "id": "SuAdKtnMRS7v"
      },
      "source": [
        ""
      ],
      "execution_count": null,
      "outputs": []
    },
    {
      "cell_type": "code",
      "metadata": {
        "id": "BQnGqQTwQ5SH"
      },
      "source": [
        "import json\n",
        "with open(\"/content/drive/MyDrive/fsdl_project/result/active_learning/20210410/initial_train_stats_1000_20210510.json\", 'w') as outfile:\n",
        "    json.dump(log_to_wandb, outfile, indent=4)"
      ],
      "execution_count": null,
      "outputs": []
    },
    {
      "cell_type": "code",
      "metadata": {
        "id": "egPN-zZ7UBqJ"
      },
      "source": [
        "## loading annotate_df\n",
        "\n",
        "annotate_df = pd.read_csv(\"/content/drive/MyDrive/fsdl_project/data/active_learning/annotate.csv.gz\", sep=\"|\", index_col=False)"
      ],
      "execution_count": null,
      "outputs": []
    },
    {
      "cell_type": "code",
      "metadata": {
        "colab": {
          "base_uri": "https://localhost:8080/",
          "height": 111
        },
        "id": "865ZLVMLUEpD",
        "outputId": "06a59624-3565-416c-f723-3e2ee0727f2e"
      },
      "source": [
        "display(annotate_df.head(2))"
      ],
      "execution_count": null,
      "outputs": [
        {
          "output_type": "display_data",
          "data": {
            "text/html": [
              "<div>\n",
              "<style scoped>\n",
              "    .dataframe tbody tr th:only-of-type {\n",
              "        vertical-align: middle;\n",
              "    }\n",
              "\n",
              "    .dataframe tbody tr th {\n",
              "        vertical-align: top;\n",
              "    }\n",
              "\n",
              "    .dataframe thead th {\n",
              "        text-align: right;\n",
              "    }\n",
              "</style>\n",
              "<table border=\"1\" class=\"dataframe\">\n",
              "  <thead>\n",
              "    <tr style=\"text-align: right;\">\n",
              "      <th></th>\n",
              "      <th>Class Index</th>\n",
              "      <th>Title</th>\n",
              "      <th>Description</th>\n",
              "      <th>text</th>\n",
              "      <th>labels</th>\n",
              "      <th>idx</th>\n",
              "    </tr>\n",
              "  </thead>\n",
              "  <tbody>\n",
              "    <tr>\n",
              "      <th>0</th>\n",
              "      <td>3</td>\n",
              "      <td>Wall St. Bears Claw Back Into the Black (Reuters)</td>\n",
              "      <td>Reuters - Short-sellers, Wall Street's dwindli...</td>\n",
              "      <td>reuters - short-sellers, wall street's dwindli...</td>\n",
              "      <td>2</td>\n",
              "      <td>0</td>\n",
              "    </tr>\n",
              "    <tr>\n",
              "      <th>1</th>\n",
              "      <td>3</td>\n",
              "      <td>Oil and Economy Cloud Stocks' Outlook (Reuters)</td>\n",
              "      <td>Reuters - Soaring crude prices plus worries\\ab...</td>\n",
              "      <td>reuters - soaring crude prices plus worries\\ab...</td>\n",
              "      <td>2</td>\n",
              "      <td>1</td>\n",
              "    </tr>\n",
              "  </tbody>\n",
              "</table>\n",
              "</div>"
            ],
            "text/plain": [
              "   Class Index                                              Title  ... labels idx\n",
              "0            3  Wall St. Bears Claw Back Into the Black (Reuters)  ...      2   0\n",
              "1            3    Oil and Economy Cloud Stocks' Outlook (Reuters)  ...      2   1\n",
              "\n",
              "[2 rows x 6 columns]"
            ]
          },
          "metadata": {
            "tags": []
          }
        }
      ]
    },
    {
      "cell_type": "code",
      "metadata": {
        "id": "0ouZ7nznOy76",
        "colab": {
          "base_uri": "https://localhost:8080/",
          "height": 1000,
          "referenced_widgets": [
            "e9b2650e436a4a3d9e0aa4cbb7c3c679",
            "bc17c094006a48d29d6e2cc708a35d0b",
            "cde8d171084446e58e8a064e01a7a501",
            "b7d5e68eda2c492a9e80525b69d6dd21",
            "0de1f93062784a38be5e1016bbf29c05",
            "25b6388694ff46eca2c9dbcf49b14ac7",
            "1cf29525e90c45f3bda46b4d4ea0e9d3",
            "2910f4ee601241408647ff845c2713d4",
            "0a817039c2cf4f23be507e0b0b7df501",
            "6af6b17b562141f59a0b4fae42b8c1b4",
            "1b4aeeac358841a4884e02ac756f8a3c",
            "87b7ef958f914aab8e6213d3f2176300",
            "b206209e6ef7409aae13bb41baf7c7bc",
            "4c42bed0b1524e699d58e8785e4c1c3c",
            "8881de3a8e1f44bab6fe8c01f11cc7a7",
            "fb536d3431d9479eb912eb0c113662a4",
            "704ea72ddf774d5dba11d98ca9abf584",
            "e6d4f400022344f99053b6521e505933",
            "b6488a6d0ec646f1bd16bfdaf2ba9828",
            "0e8f39bc412d425e98327d74e5403854",
            "d120778b937c4c97806532b2db11aada",
            "c6e4edff105640baa81a42c97c78b578"
          ]
        },
        "outputId": "11455bf6-51a0-44a4-8257-481a5a290041"
      },
      "source": [
        "### Making prediction on annotation dataset and saving it to output/active_learning/20210410 for annotation\n",
        "annotate_text = annotate_df['text'].values.tolist()\n",
        "annotate_predictions, annotate_raw_output = al_model.predict(annotate_text)"
      ],
      "execution_count": null,
      "outputs": [
        {
          "output_type": "stream",
          "text": [
            "INFO:simpletransformers.classification.classification_utils: Converting to features started. Cache is not used.\n"
          ],
          "name": "stderr"
        },
        {
          "output_type": "display_data",
          "data": {
            "application/vnd.jupyter.widget-view+json": {
              "model_id": "e9b2650e436a4a3d9e0aa4cbb7c3c679",
              "version_minor": 0,
              "version_major": 2
            },
            "text/plain": [
              "  0%|          | 0/67200 [00:00<?, ?it/s]"
            ]
          },
          "metadata": {
            "tags": []
          }
        },
        {
          "output_type": "stream",
          "text": [
            "Exception ignored in: <finalize object at 0x7f4d106168d0; dead>\n",
            "Traceback (most recent call last):\n",
            "  File \"/usr/lib/python3.7/weakref.py\", line 572, in __call__\n",
            "    return info.func(*info.args, **(info.kwargs or {}))\n",
            "  File \"/usr/lib/python3.7/tempfile.py\", line 936, in _cleanup\n",
            "    _rmtree(name)\n",
            "  File \"/usr/lib/python3.7/shutil.py\", line 485, in rmtree\n",
            "    onerror(os.lstat, path, sys.exc_info())\n",
            "  File \"/usr/lib/python3.7/shutil.py\", line 483, in rmtree\n",
            "    orig_st = os.lstat(path)\n",
            "FileNotFoundError: [Errno 2] No such file or directory: '/tmp/tmp5y2g38ta'\n",
            "Exception ignored in: <finalize object at 0x7f4d106169d0; dead>\n",
            "Traceback (most recent call last):\n",
            "  File \"/usr/lib/python3.7/weakref.py\", line 572, in __call__\n",
            "    return info.func(*info.args, **(info.kwargs or {}))\n",
            "  File \"/usr/lib/python3.7/tempfile.py\", line 936, in _cleanup\n",
            "    _rmtree(name)\n",
            "  File \"/usr/lib/python3.7/shutil.py\", line 485, in rmtree\n",
            "    onerror(os.lstat, path, sys.exc_info())\n",
            "  File \"/usr/lib/python3.7/shutil.py\", line 483, in rmtree\n",
            "    orig_st = os.lstat(path)\n",
            "FileNotFoundError: [Errno 2] No such file or directory: '/tmp/tmppdp9cwu1'\n",
            "Exception ignored in: <finalize object at 0x7f4d10616940; dead>\n",
            "Traceback (most recent call last):\n",
            "  File \"/usr/lib/python3.7/weakref.py\", line 572, in __call__\n",
            "    return info.func(*info.args, **(info.kwargs or {}))\n",
            "  File \"/usr/lib/python3.7/tempfile.py\", line 936, in _cleanup\n",
            "    _rmtree(name)\n",
            "  File \"/usr/lib/python3.7/shutil.py\", line 485, in rmtree\n",
            "    onerror(os.lstat, path, sys.exc_info())\n",
            "  File \"/usr/lib/python3.7/shutil.py\", line 483, in rmtree\n",
            "    orig_st = os.lstat(path)\n",
            "FileNotFoundError: [Errno 2] No such file or directory: '/tmp/tmp15pve8hz'\n",
            "Exception ignored in: <finalize object at 0x7f4d10616950; dead>\n",
            "Traceback (most recent call last):\n",
            "  File \"/usr/lib/python3.7/weakref.py\", line 572, in __call__\n",
            "    return info.func(*info.args, **(info.kwargs or {}))\n",
            "  File \"/usr/lib/python3.7/tempfile.py\", line 936, in _cleanup\n",
            "    _rmtree(name)\n",
            "  File \"/usr/lib/python3.7/shutil.py\", line 485, in rmtree\n",
            "    onerror(os.lstat, path, sys.exc_info())\n",
            "  File \"/usr/lib/python3.7/shutil.py\", line 483, in rmtree\n",
            "    orig_st = os.lstat(path)\n",
            "FileNotFoundError: [Errno 2] No such file or directory: '/tmp/tmp6o4cludb'\n"
          ],
          "name": "stderr"
        },
        {
          "output_type": "display_data",
          "data": {
            "application/vnd.jupyter.widget-view+json": {
              "model_id": "87b7ef958f914aab8e6213d3f2176300",
              "version_minor": 0,
              "version_major": 2
            },
            "text/plain": [
              "  0%|          | 0/4200 [00:00<?, ?it/s]"
            ]
          },
          "metadata": {
            "tags": []
          }
        },
        {
          "output_type": "stream",
          "text": [
            "Exception ignored in: <finalize object at 0x7f4d106168d0; dead>\n",
            "Traceback (most recent call last):\n",
            "  File \"/usr/lib/python3.7/weakref.py\", line 572, in __call__\n",
            "    return info.func(*info.args, **(info.kwargs or {}))\n",
            "  File \"/usr/lib/python3.7/tempfile.py\", line 936, in _cleanup\n",
            "    _rmtree(name)\n",
            "  File \"/usr/lib/python3.7/shutil.py\", line 485, in rmtree\n",
            "    onerror(os.lstat, path, sys.exc_info())\n",
            "  File \"/usr/lib/python3.7/shutil.py\", line 483, in rmtree\n",
            "    orig_st = os.lstat(path)\n",
            "FileNotFoundError: [Errno 2] No such file or directory: '/tmp/tmp5y2g38ta'\n"
          ],
          "name": "stderr"
        }
      ]
    },
    {
      "cell_type": "code",
      "metadata": {
        "id": "2-IPs2d5UMu6"
      },
      "source": [
        "import torch.nn as nn\n",
        "import torch"
      ],
      "execution_count": null,
      "outputs": []
    },
    {
      "cell_type": "code",
      "metadata": {
        "id": "ilmmqBTjUQvu"
      },
      "source": [
        "sfm = nn.Softmax(dim=1)"
      ],
      "execution_count": null,
      "outputs": []
    },
    {
      "cell_type": "code",
      "metadata": {
        "id": "uyL3r8GcSFUM"
      },
      "source": [
        "annotate_raw_output_tensor = torch.from_numpy(annotate_raw_output)\n",
        "annotate_class_prob = sfm(annotate_raw_output_tensor)\n",
        "max_prob = torch.max(annotate_class_prob, dim=1)\n",
        "annotate_class_prob = annotate_class_prob.numpy()\n",
        "max_prob = max_prob.values.numpy()"
      ],
      "execution_count": null,
      "outputs": []
    },
    {
      "cell_type": "code",
      "metadata": {
        "colab": {
          "base_uri": "https://localhost:8080/",
          "height": 111
        },
        "id": "0hmWfhcGdUkG",
        "outputId": "92a20213-be1b-495d-cd66-33d937161a12"
      },
      "source": [
        "annotate_df.head(2)"
      ],
      "execution_count": null,
      "outputs": [
        {
          "output_type": "execute_result",
          "data": {
            "text/html": [
              "<div>\n",
              "<style scoped>\n",
              "    .dataframe tbody tr th:only-of-type {\n",
              "        vertical-align: middle;\n",
              "    }\n",
              "\n",
              "    .dataframe tbody tr th {\n",
              "        vertical-align: top;\n",
              "    }\n",
              "\n",
              "    .dataframe thead th {\n",
              "        text-align: right;\n",
              "    }\n",
              "</style>\n",
              "<table border=\"1\" class=\"dataframe\">\n",
              "  <thead>\n",
              "    <tr style=\"text-align: right;\">\n",
              "      <th></th>\n",
              "      <th>Class Index</th>\n",
              "      <th>Title</th>\n",
              "      <th>Description</th>\n",
              "      <th>text</th>\n",
              "      <th>labels</th>\n",
              "      <th>idx</th>\n",
              "    </tr>\n",
              "  </thead>\n",
              "  <tbody>\n",
              "    <tr>\n",
              "      <th>0</th>\n",
              "      <td>3</td>\n",
              "      <td>Wall St. Bears Claw Back Into the Black (Reuters)</td>\n",
              "      <td>Reuters - Short-sellers, Wall Street's dwindli...</td>\n",
              "      <td>reuters - short-sellers, wall street's dwindli...</td>\n",
              "      <td>2</td>\n",
              "      <td>0</td>\n",
              "    </tr>\n",
              "    <tr>\n",
              "      <th>1</th>\n",
              "      <td>3</td>\n",
              "      <td>Oil and Economy Cloud Stocks' Outlook (Reuters)</td>\n",
              "      <td>Reuters - Soaring crude prices plus worries\\ab...</td>\n",
              "      <td>reuters - soaring crude prices plus worries\\ab...</td>\n",
              "      <td>2</td>\n",
              "      <td>1</td>\n",
              "    </tr>\n",
              "  </tbody>\n",
              "</table>\n",
              "</div>"
            ],
            "text/plain": [
              "   Class Index                                              Title  ... labels idx\n",
              "0            3  Wall St. Bears Claw Back Into the Black (Reuters)  ...      2   0\n",
              "1            3    Oil and Economy Cloud Stocks' Outlook (Reuters)  ...      2   1\n",
              "\n",
              "[2 rows x 6 columns]"
            ]
          },
          "metadata": {
            "tags": []
          },
          "execution_count": 19
        }
      ]
    },
    {
      "cell_type": "code",
      "metadata": {
        "id": "-j_ijy_1XA_H"
      },
      "source": [
        "annotate_df_with_pred = np.hstack((\n",
        "    annotate_df.idx.values.reshape(-1,1),\n",
        "    annotate_df.Title.values.reshape(-1,1),\n",
        "    annotate_df.Description.values.reshape(-1,1),\n",
        "    annotate_df.text.values.reshape(-1,1),        \n",
        "    annotate_raw_output,\n",
        "    annotate_class_prob,\n",
        "    max_prob.reshape(-1,1),\n",
        "    np.array(annotate_predictions).reshape(-1,1)\n",
        "           ))"
      ],
      "execution_count": null,
      "outputs": []
    },
    {
      "cell_type": "code",
      "metadata": {
        "id": "1x2DfEtyXSqG"
      },
      "source": [
        "col_names = ['idx', \n",
        "             'text', \n",
        "             'title',\n",
        "             'description',\n",
        "             'logit_0', 'logit_1', 'logit_2', 'logit_3', \n",
        "             'prob_0', 'prob_1', 'prob_2', 'prob_3',\n",
        "             'max_prob',\n",
        "             'label_pred'\n",
        "             ]"
      ],
      "execution_count": null,
      "outputs": []
    },
    {
      "cell_type": "code",
      "metadata": {
        "id": "CBXUZ2hdaUhr"
      },
      "source": [
        "\n",
        "annotate_df_with_pred = pd.DataFrame(annotate_df_with_pred, columns=col_names)"
      ],
      "execution_count": null,
      "outputs": []
    },
    {
      "cell_type": "code",
      "metadata": {
        "id": "RMY3DojLQ1l_"
      },
      "source": [
        "annotate_df_with_pred['annotated_labels'] = ''\n",
        "annotate_df_with_pred['sampling_method'] = ''"
      ],
      "execution_count": null,
      "outputs": []
    },
    {
      "cell_type": "code",
      "metadata": {
        "id": "wIg_fRNua0Ni"
      },
      "source": [
        ""
      ],
      "execution_count": null,
      "outputs": []
    },
    {
      "cell_type": "code",
      "metadata": {
        "colab": {
          "base_uri": "https://localhost:8080/",
          "height": 289
        },
        "id": "7zNfz4TAdnKr",
        "outputId": "a9d993ba-cefd-40bb-8df2-7a2f8eb32e46"
      },
      "source": [
        "annotate_df_with_pred.head()"
      ],
      "execution_count": null,
      "outputs": [
        {
          "output_type": "execute_result",
          "data": {
            "text/html": [
              "<div>\n",
              "<style scoped>\n",
              "    .dataframe tbody tr th:only-of-type {\n",
              "        vertical-align: middle;\n",
              "    }\n",
              "\n",
              "    .dataframe tbody tr th {\n",
              "        vertical-align: top;\n",
              "    }\n",
              "\n",
              "    .dataframe thead th {\n",
              "        text-align: right;\n",
              "    }\n",
              "</style>\n",
              "<table border=\"1\" class=\"dataframe\">\n",
              "  <thead>\n",
              "    <tr style=\"text-align: right;\">\n",
              "      <th></th>\n",
              "      <th>idx</th>\n",
              "      <th>text</th>\n",
              "      <th>title</th>\n",
              "      <th>description</th>\n",
              "      <th>logit_0</th>\n",
              "      <th>logit_1</th>\n",
              "      <th>logit_2</th>\n",
              "      <th>logit_3</th>\n",
              "      <th>prob_0</th>\n",
              "      <th>prob_1</th>\n",
              "      <th>prob_2</th>\n",
              "      <th>prob_3</th>\n",
              "      <th>max_prob</th>\n",
              "      <th>label_pred</th>\n",
              "      <th>annotated_labels</th>\n",
              "      <th>sampling_method</th>\n",
              "    </tr>\n",
              "  </thead>\n",
              "  <tbody>\n",
              "    <tr>\n",
              "      <th>0</th>\n",
              "      <td>0</td>\n",
              "      <td>Wall St. Bears Claw Back Into the Black (Reuters)</td>\n",
              "      <td>Reuters - Short-sellers, Wall Street's dwindli...</td>\n",
              "      <td>reuters - short-sellers, wall street's dwindli...</td>\n",
              "      <td>-1.64648</td>\n",
              "      <td>-1.90039</td>\n",
              "      <td>2.11523</td>\n",
              "      <td>1.56641</td>\n",
              "      <td>0.0143577</td>\n",
              "      <td>0.0111382</td>\n",
              "      <td>0.617703</td>\n",
              "      <td>0.356801</td>\n",
              "      <td>0.617703</td>\n",
              "      <td>2</td>\n",
              "      <td></td>\n",
              "      <td></td>\n",
              "    </tr>\n",
              "    <tr>\n",
              "      <th>1</th>\n",
              "      <td>1</td>\n",
              "      <td>Oil and Economy Cloud Stocks' Outlook (Reuters)</td>\n",
              "      <td>Reuters - Soaring crude prices plus worries\\ab...</td>\n",
              "      <td>reuters - soaring crude prices plus worries\\ab...</td>\n",
              "      <td>0.0162964</td>\n",
              "      <td>-2.00391</td>\n",
              "      <td>3.34375</td>\n",
              "      <td>-1.1543</td>\n",
              "      <td>0.0341179</td>\n",
              "      <td>0.00452501</td>\n",
              "      <td>0.950774</td>\n",
              "      <td>0.0105828</td>\n",
              "      <td>0.950774</td>\n",
              "      <td>2</td>\n",
              "      <td></td>\n",
              "      <td></td>\n",
              "    </tr>\n",
              "    <tr>\n",
              "      <th>2</th>\n",
              "      <td>2</td>\n",
              "      <td>Iraq Halts Oil Exports from Main Southern Pipe...</td>\n",
              "      <td>Reuters - Authorities have halted oil export\\f...</td>\n",
              "      <td>reuters - authorities have halted oil export\\f...</td>\n",
              "      <td>3.80469</td>\n",
              "      <td>-1.4668</td>\n",
              "      <td>0.199097</td>\n",
              "      <td>-1.95312</td>\n",
              "      <td>0.965749</td>\n",
              "      <td>0.00496007</td>\n",
              "      <td>0.0262407</td>\n",
              "      <td>0.00304985</td>\n",
              "      <td>0.965749</td>\n",
              "      <td>0</td>\n",
              "      <td></td>\n",
              "      <td></td>\n",
              "    </tr>\n",
              "    <tr>\n",
              "      <th>3</th>\n",
              "      <td>3</td>\n",
              "      <td>Oil prices soar to all-time record, posing new...</td>\n",
              "      <td>AFP - Tearaway world oil prices, toppling reco...</td>\n",
              "      <td>afp - tearaway world oil prices, toppling reco...</td>\n",
              "      <td>1.12891</td>\n",
              "      <td>-2.0293</td>\n",
              "      <td>2.77734</td>\n",
              "      <td>-1.55762</td>\n",
              "      <td>0.158492</td>\n",
              "      <td>0.00673623</td>\n",
              "      <td>0.823976</td>\n",
              "      <td>0.010796</td>\n",
              "      <td>0.823976</td>\n",
              "      <td>2</td>\n",
              "      <td></td>\n",
              "      <td></td>\n",
              "    </tr>\n",
              "    <tr>\n",
              "      <th>4</th>\n",
              "      <td>4</td>\n",
              "      <td>Stocks End Up, But Near Year Lows (Reuters)</td>\n",
              "      <td>Reuters - Stocks ended slightly higher on Frid...</td>\n",
              "      <td>reuters - stocks ended slightly higher on frid...</td>\n",
              "      <td>0.172119</td>\n",
              "      <td>-1.75195</td>\n",
              "      <td>3.11914</td>\n",
              "      <td>-1.28711</td>\n",
              "      <td>0.0489535</td>\n",
              "      <td>0.00714775</td>\n",
              "      <td>0.932521</td>\n",
              "      <td>0.0113775</td>\n",
              "      <td>0.932521</td>\n",
              "      <td>2</td>\n",
              "      <td></td>\n",
              "      <td></td>\n",
              "    </tr>\n",
              "  </tbody>\n",
              "</table>\n",
              "</div>"
            ],
            "text/plain": [
              "  idx  ... sampling_method\n",
              "0   0  ...                \n",
              "1   1  ...                \n",
              "2   2  ...                \n",
              "3   3  ...                \n",
              "4   4  ...                \n",
              "\n",
              "[5 rows x 16 columns]"
            ]
          },
          "metadata": {
            "tags": []
          },
          "execution_count": 31
        }
      ]
    },
    {
      "cell_type": "code",
      "metadata": {
        "id": "-2-oJE7qcrbU"
      },
      "source": [
        "# os.mkdir(\"/content/drive/MyDrive/fsdl_project/output/active_learning\")\n",
        "os.mkdir(\"/content/drive/MyDrive/fsdl_project/output/active_learning/20210510\")"
      ],
      "execution_count": null,
      "outputs": []
    },
    {
      "cell_type": "code",
      "metadata": {
        "id": "p6dsnjmBc7Aw"
      },
      "source": [
        "annotate_df_with_pred.to_csv(\"/content/drive/MyDrive/fsdl_project/output/active_learning/20210510/annotate.csv.gz\", index=False,\n",
        "                             compression=\"gzip\")"
      ],
      "execution_count": null,
      "outputs": []
    },
    {
      "cell_type": "code",
      "metadata": {
        "id": "JR5dL6pqdIXE"
      },
      "source": [
        "annotate_df_with_pred.head()"
      ],
      "execution_count": null,
      "outputs": []
    },
    {
      "cell_type": "code",
      "metadata": {
        "colab": {
          "base_uri": "https://localhost:8080/"
        },
        "id": "rKZfzquRdLiT",
        "outputId": "4af429d1-1177-4a31-dd9f-d3b369c0f82a"
      },
      "source": [
        "log_to_wandb"
      ],
      "execution_count": null,
      "outputs": [
        {
          "output_type": "execute_result",
          "data": {
            "text/plain": [
              "{'test_accuracy': 0.9292105263157895,\n",
              " 'test_eval_loss': 0.37604381556634936,\n",
              " 'test_mcc': 0.9056558484190013,\n",
              " 'train_accuracy': 0.9859375,\n",
              " 'train_eval_loss': 0.06025019081414535,\n",
              " 'train_mcc': 0.9812553280559401,\n",
              " 'valid_accuracy': 0.9294583333333334,\n",
              " 'valid_eval_loss': 0.3652915442798403,\n",
              " 'valid_mcc': 0.9059680833454649}"
            ]
          },
          "metadata": {
            "tags": []
          },
          "execution_count": 28
        }
      ]
    },
    {
      "cell_type": "code",
      "metadata": {
        "id": "cjOV8vD-acs0"
      },
      "source": [
        ""
      ],
      "execution_count": null,
      "outputs": []
    }
  ]
}